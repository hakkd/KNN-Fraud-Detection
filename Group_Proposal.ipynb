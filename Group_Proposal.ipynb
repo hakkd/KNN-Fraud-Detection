{
 "cells": [
  {
   "cell_type": "markdown",
   "id": "0015fbff-911a-495f-bb62-b5c755904407",
   "metadata": {},
   "source": [
    "# DSCI 100 Group Project Proposal - Group 17"
   ]
  },
  {
   "cell_type": "markdown",
   "id": "bb579b12-4880-4036-887e-13a8af5ecb2c",
   "metadata": {},
   "source": [
    "## Introduction"
   ]
  },
  {
   "cell_type": "code",
   "execution_count": null,
   "id": "c9124c77-1ca0-4611-8891-39ab1049065a",
   "metadata": {},
   "outputs": [],
   "source": []
  },
  {
   "cell_type": "markdown",
   "id": "fcfe472f-b18c-455b-b161-7721ea13514b",
   "metadata": {},
   "source": [
    "## Preliminary Exploratory Data Analysis"
   ]
  },
  {
   "cell_type": "code",
   "execution_count": null,
   "id": "2d0e83a9-94d3-455f-bab4-9951b0398daf",
   "metadata": {},
   "outputs": [],
   "source": []
  },
  {
   "cell_type": "markdown",
   "id": "2e461d04-d310-4d5c-b3b0-e21f874e7f52",
   "metadata": {
    "tags": []
   },
   "source": [
    "## Methods"
   ]
  },
  {
   "cell_type": "code",
   "execution_count": null,
   "id": "18050311-f3f4-483e-8ede-8e8742c301d7",
   "metadata": {},
   "outputs": [],
   "source": []
  },
  {
   "cell_type": "markdown",
   "id": "2d64dc2b-cc87-4b2c-871e-834bd9868451",
   "metadata": {},
   "source": [
    "## Expected Outcomes and Significance"
   ]
  },
  {
   "cell_type": "code",
   "execution_count": null,
   "id": "157157f7-8ab2-4058-b8ec-17b634f3935f",
   "metadata": {},
   "outputs": [],
   "source": []
  }
 ],
 "metadata": {
  "kernelspec": {
   "display_name": "R",
   "language": "R",
   "name": "ir"
  },
  "language_info": {
   "codemirror_mode": "r",
   "file_extension": ".r",
   "mimetype": "text/x-r-source",
   "name": "R",
   "pygments_lexer": "r",
   "version": "4.1.3"
  }
 },
 "nbformat": 4,
 "nbformat_minor": 5
}
