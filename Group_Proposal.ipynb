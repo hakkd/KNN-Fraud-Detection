{
 "cells": [
  {
   "cell_type": "markdown",
   "id": "0015fbff-911a-495f-bb62-b5c755904407",
   "metadata": {},
   "source": [
    "# DSCI 100 Group Project Proposal - Group 17"
   ]
  },
  {
   "cell_type": "code",
   "execution_count": 1,
   "id": "0502b19e-6058-4d8c-a0a7-d2074f890c51",
   "metadata": {},
   "outputs": [
    {
     "name": "stderr",
     "output_type": "stream",
     "text": [
      "── \u001b[1mAttaching packages\u001b[22m ─────────────────────────────────────── tidyverse 1.3.1 ──\n",
      "\n",
      "\u001b[32m✔\u001b[39m \u001b[34mggplot2\u001b[39m 3.3.6     \u001b[32m✔\u001b[39m \u001b[34mpurrr  \u001b[39m 0.3.4\n",
      "\u001b[32m✔\u001b[39m \u001b[34mtibble \u001b[39m 3.1.7     \u001b[32m✔\u001b[39m \u001b[34mdplyr  \u001b[39m 1.0.9\n",
      "\u001b[32m✔\u001b[39m \u001b[34mtidyr  \u001b[39m 1.2.0     \u001b[32m✔\u001b[39m \u001b[34mstringr\u001b[39m 1.4.0\n",
      "\u001b[32m✔\u001b[39m \u001b[34mreadr  \u001b[39m 2.1.2     \u001b[32m✔\u001b[39m \u001b[34mforcats\u001b[39m 0.5.1\n",
      "\n",
      "── \u001b[1mConflicts\u001b[22m ────────────────────────────────────────── tidyverse_conflicts() ──\n",
      "\u001b[31m✖\u001b[39m \u001b[34mdplyr\u001b[39m::\u001b[32mfilter()\u001b[39m masks \u001b[34mstats\u001b[39m::filter()\n",
      "\u001b[31m✖\u001b[39m \u001b[34mdplyr\u001b[39m::\u001b[32mlag()\u001b[39m    masks \u001b[34mstats\u001b[39m::lag()\n",
      "\n"
     ]
    }
   ],
   "source": [
    "library(tidyverse)\n",
    "library(readr)\n",
    "library(dplyr)"
   ]
  },
  {
   "cell_type": "markdown",
   "id": "bb579b12-4880-4036-887e-13a8af5ecb2c",
   "metadata": {},
   "source": [
    "## Introduction"
   ]
  },
  {
   "cell_type": "markdown",
   "id": "4104330c-dba2-4ed6-a0db-6ca1c578ed46",
   "metadata": {},
   "source": [
    "* Provide some relevant background information on the topic so that someone unfamiliar with it will be prepared to understand the rest of your proposal\n",
    "* Clearly state the question you will try to answer with your project\n",
    "* Identify and describe the dataset that will be used to answer the question"
   ]
  },
  {
   "cell_type": "markdown",
   "id": "fcfe472f-b18c-455b-b161-7721ea13514b",
   "metadata": {},
   "source": [
    "## Preliminary Exploratory Data Analysis"
   ]
  },
  {
   "cell_type": "markdown",
   "id": "9140f624-cdca-4904-a8a6-f54a8b1e9ff6",
   "metadata": {},
   "source": [
    "* Demonstrate that the dataset can be read from the web into R \n",
    "* Clean and wrangle your data into a tidy format\n",
    "* Using only training data, summarize the data in at least one table (this is exploratory data analysis). An example of a useful table could be one that reports the number of observations in each class, the means of the predictor variables you plan to use in your analysis and how many rows have missing data. \n",
    "* Using only training data, visualize the data with at least one plot relevant to the analysis you plan to do (this is exploratory data analysis). An example of a useful visualization could be one that compares the distributions of each of the predictor variables you plan to use in your analysis.\n"
   ]
  },
  {
   "cell_type": "markdown",
   "id": "5dd6aaa1-970e-4ecf-806a-47b46df30b3e",
   "metadata": {},
   "source": [
    "**Dataset Info**\n",
    "| | Inherent Risk Factors | | Control Risk Factors |\n",
    "| --- | --- | ---| --- |\n",
    "| ParaA | Discrepancy in planned-expenditure of inspection and summary report A in Rs | Sector score | Historical risk score value of the target-unit |\n",
    "| ParaB | Discrepancy in unplanned-expenditure of inspection and summary report B in Rs | Loss | Amount of loss suffered by the firm last year. |\n",
    "| Total | Total amount of discrepancy found in other reports Rs | History | Average historical loss suffered by firm in the last 10 years. |\n",
    "| Number | Historical discrepancy score. | District score | Historical risk score of a district in the last 10 years. |\n",
    "| Money Value | Amount of money involved in misstatements in the past audits. | | |\n",
    "| Sector ID | Unique ID of the target sector. | Location ID | Unique ID of the city/province. |\n",
    "| ARS | Total risk score using analytical procedure. | \n",
    "| Risk class"
   ]
  },
  {
   "cell_type": "code",
   "execution_count": 7,
   "id": "8d6b34ee-5e6a-40bf-91a0-ac5645e57d38",
   "metadata": {},
   "outputs": [
    {
     "name": "stderr",
     "output_type": "stream",
     "text": [
      "\u001b[1m\u001b[22mNew names:\n",
      "\u001b[36m•\u001b[39m `Score_B` -> `Score_B...7`\n",
      "\u001b[36m•\u001b[39m `Score_B` -> `Score_B...11`\n",
      "\u001b[1mRows: \u001b[22m\u001b[34m776\u001b[39m \u001b[1mColumns: \u001b[22m\u001b[34m27\u001b[39m\n",
      "\u001b[36m──\u001b[39m \u001b[1mColumn specification\u001b[22m \u001b[36m────────────────────────────────────────────────────────\u001b[39m\n",
      "\u001b[1mDelimiter:\u001b[22m \",\"\n",
      "\u001b[31mchr\u001b[39m  (1): LOCATION_ID\n",
      "\u001b[32mdbl\u001b[39m (26): Sector_score, PARA_A, Score_A, Risk_A, PARA_B, Score_B...7, Risk_B...\n",
      "\n",
      "\u001b[36mℹ\u001b[39m Use `spec()` to retrieve the full column specification for this data.\n",
      "\u001b[36mℹ\u001b[39m Specify the column types or set `show_col_types = FALSE` to quiet this message.\n"
     ]
    },
    {
     "data": {
      "text/html": [
       "<table class=\"dataframe\">\n",
       "<caption>A tibble: 6 × 27</caption>\n",
       "<thead>\n",
       "\t<tr><th scope=col>Sector_score</th><th scope=col>LOCATION_ID</th><th scope=col>PARA_A</th><th scope=col>Score_A</th><th scope=col>Risk_A</th><th scope=col>PARA_B</th><th scope=col>Score_B...7</th><th scope=col>Risk_B</th><th scope=col>TOTAL</th><th scope=col>numbers</th><th scope=col>⋯</th><th scope=col>RiSk_E</th><th scope=col>History</th><th scope=col>Prob</th><th scope=col>Risk_F</th><th scope=col>Score</th><th scope=col>Inherent_Risk</th><th scope=col>CONTROL_RISK</th><th scope=col>Detection_Risk</th><th scope=col>Audit_Risk</th><th scope=col>Risk</th></tr>\n",
       "\t<tr><th scope=col>&lt;dbl&gt;</th><th scope=col>&lt;chr&gt;</th><th scope=col>&lt;dbl&gt;</th><th scope=col>&lt;dbl&gt;</th><th scope=col>&lt;dbl&gt;</th><th scope=col>&lt;dbl&gt;</th><th scope=col>&lt;dbl&gt;</th><th scope=col>&lt;dbl&gt;</th><th scope=col>&lt;dbl&gt;</th><th scope=col>&lt;dbl&gt;</th><th scope=col>⋯</th><th scope=col>&lt;dbl&gt;</th><th scope=col>&lt;dbl&gt;</th><th scope=col>&lt;dbl&gt;</th><th scope=col>&lt;dbl&gt;</th><th scope=col>&lt;dbl&gt;</th><th scope=col>&lt;dbl&gt;</th><th scope=col>&lt;dbl&gt;</th><th scope=col>&lt;dbl&gt;</th><th scope=col>&lt;dbl&gt;</th><th scope=col>&lt;dbl&gt;</th></tr>\n",
       "</thead>\n",
       "<tbody>\n",
       "\t<tr><td>3.89</td><td>23</td><td>4.18</td><td>0.6</td><td>2.508</td><td> 2.50</td><td>0.2</td><td>0.500</td><td> 6.68</td><td>5</td><td>⋯</td><td>0.4</td><td>0</td><td>0.2</td><td>0</td><td>2.4</td><td> 8.574</td><td>0.4</td><td>0.5</td><td>1.7148</td><td>1</td></tr>\n",
       "\t<tr><td>3.89</td><td>6 </td><td>0.00</td><td>0.2</td><td>0.000</td><td> 4.83</td><td>0.2</td><td>0.966</td><td> 4.83</td><td>5</td><td>⋯</td><td>0.4</td><td>0</td><td>0.2</td><td>0</td><td>2.0</td><td> 2.554</td><td>0.4</td><td>0.5</td><td>0.5108</td><td>0</td></tr>\n",
       "\t<tr><td>3.89</td><td>6 </td><td>0.51</td><td>0.2</td><td>0.102</td><td> 0.23</td><td>0.2</td><td>0.046</td><td> 0.74</td><td>5</td><td>⋯</td><td>0.4</td><td>0</td><td>0.2</td><td>0</td><td>2.0</td><td> 1.548</td><td>0.4</td><td>0.5</td><td>0.3096</td><td>0</td></tr>\n",
       "\t<tr><td>3.89</td><td>6 </td><td>0.00</td><td>0.2</td><td>0.000</td><td>10.80</td><td>0.6</td><td>6.480</td><td>10.80</td><td>6</td><td>⋯</td><td>0.4</td><td>0</td><td>0.2</td><td>0</td><td>4.4</td><td>17.530</td><td>0.4</td><td>0.5</td><td>3.5060</td><td>1</td></tr>\n",
       "\t<tr><td>3.89</td><td>6 </td><td>0.00</td><td>0.2</td><td>0.000</td><td> 0.08</td><td>0.2</td><td>0.016</td><td> 0.08</td><td>5</td><td>⋯</td><td>0.4</td><td>0</td><td>0.2</td><td>0</td><td>2.0</td><td> 1.416</td><td>0.4</td><td>0.5</td><td>0.2832</td><td>0</td></tr>\n",
       "\t<tr><td>3.89</td><td>6 </td><td>0.00</td><td>0.2</td><td>0.000</td><td> 0.83</td><td>0.2</td><td>0.166</td><td> 0.83</td><td>5</td><td>⋯</td><td>0.4</td><td>0</td><td>0.2</td><td>0</td><td>2.0</td><td> 2.156</td><td>0.4</td><td>0.5</td><td>0.4312</td><td>0</td></tr>\n",
       "</tbody>\n",
       "</table>\n"
      ],
      "text/latex": [
       "A tibble: 6 × 27\n",
       "\\begin{tabular}{lllllllllllllllllllll}\n",
       " Sector\\_score & LOCATION\\_ID & PARA\\_A & Score\\_A & Risk\\_A & PARA\\_B & Score\\_B...7 & Risk\\_B & TOTAL & numbers & ⋯ & RiSk\\_E & History & Prob & Risk\\_F & Score & Inherent\\_Risk & CONTROL\\_RISK & Detection\\_Risk & Audit\\_Risk & Risk\\\\\n",
       " <dbl> & <chr> & <dbl> & <dbl> & <dbl> & <dbl> & <dbl> & <dbl> & <dbl> & <dbl> & ⋯ & <dbl> & <dbl> & <dbl> & <dbl> & <dbl> & <dbl> & <dbl> & <dbl> & <dbl> & <dbl>\\\\\n",
       "\\hline\n",
       "\t 3.89 & 23 & 4.18 & 0.6 & 2.508 &  2.50 & 0.2 & 0.500 &  6.68 & 5 & ⋯ & 0.4 & 0 & 0.2 & 0 & 2.4 &  8.574 & 0.4 & 0.5 & 1.7148 & 1\\\\\n",
       "\t 3.89 & 6  & 0.00 & 0.2 & 0.000 &  4.83 & 0.2 & 0.966 &  4.83 & 5 & ⋯ & 0.4 & 0 & 0.2 & 0 & 2.0 &  2.554 & 0.4 & 0.5 & 0.5108 & 0\\\\\n",
       "\t 3.89 & 6  & 0.51 & 0.2 & 0.102 &  0.23 & 0.2 & 0.046 &  0.74 & 5 & ⋯ & 0.4 & 0 & 0.2 & 0 & 2.0 &  1.548 & 0.4 & 0.5 & 0.3096 & 0\\\\\n",
       "\t 3.89 & 6  & 0.00 & 0.2 & 0.000 & 10.80 & 0.6 & 6.480 & 10.80 & 6 & ⋯ & 0.4 & 0 & 0.2 & 0 & 4.4 & 17.530 & 0.4 & 0.5 & 3.5060 & 1\\\\\n",
       "\t 3.89 & 6  & 0.00 & 0.2 & 0.000 &  0.08 & 0.2 & 0.016 &  0.08 & 5 & ⋯ & 0.4 & 0 & 0.2 & 0 & 2.0 &  1.416 & 0.4 & 0.5 & 0.2832 & 0\\\\\n",
       "\t 3.89 & 6  & 0.00 & 0.2 & 0.000 &  0.83 & 0.2 & 0.166 &  0.83 & 5 & ⋯ & 0.4 & 0 & 0.2 & 0 & 2.0 &  2.156 & 0.4 & 0.5 & 0.4312 & 0\\\\\n",
       "\\end{tabular}\n"
      ],
      "text/markdown": [
       "\n",
       "A tibble: 6 × 27\n",
       "\n",
       "| Sector_score &lt;dbl&gt; | LOCATION_ID &lt;chr&gt; | PARA_A &lt;dbl&gt; | Score_A &lt;dbl&gt; | Risk_A &lt;dbl&gt; | PARA_B &lt;dbl&gt; | Score_B...7 &lt;dbl&gt; | Risk_B &lt;dbl&gt; | TOTAL &lt;dbl&gt; | numbers &lt;dbl&gt; | ⋯ ⋯ | RiSk_E &lt;dbl&gt; | History &lt;dbl&gt; | Prob &lt;dbl&gt; | Risk_F &lt;dbl&gt; | Score &lt;dbl&gt; | Inherent_Risk &lt;dbl&gt; | CONTROL_RISK &lt;dbl&gt; | Detection_Risk &lt;dbl&gt; | Audit_Risk &lt;dbl&gt; | Risk &lt;dbl&gt; |\n",
       "|---|---|---|---|---|---|---|---|---|---|---|---|---|---|---|---|---|---|---|---|---|\n",
       "| 3.89 | 23 | 4.18 | 0.6 | 2.508 |  2.50 | 0.2 | 0.500 |  6.68 | 5 | ⋯ | 0.4 | 0 | 0.2 | 0 | 2.4 |  8.574 | 0.4 | 0.5 | 1.7148 | 1 |\n",
       "| 3.89 | 6  | 0.00 | 0.2 | 0.000 |  4.83 | 0.2 | 0.966 |  4.83 | 5 | ⋯ | 0.4 | 0 | 0.2 | 0 | 2.0 |  2.554 | 0.4 | 0.5 | 0.5108 | 0 |\n",
       "| 3.89 | 6  | 0.51 | 0.2 | 0.102 |  0.23 | 0.2 | 0.046 |  0.74 | 5 | ⋯ | 0.4 | 0 | 0.2 | 0 | 2.0 |  1.548 | 0.4 | 0.5 | 0.3096 | 0 |\n",
       "| 3.89 | 6  | 0.00 | 0.2 | 0.000 | 10.80 | 0.6 | 6.480 | 10.80 | 6 | ⋯ | 0.4 | 0 | 0.2 | 0 | 4.4 | 17.530 | 0.4 | 0.5 | 3.5060 | 1 |\n",
       "| 3.89 | 6  | 0.00 | 0.2 | 0.000 |  0.08 | 0.2 | 0.016 |  0.08 | 5 | ⋯ | 0.4 | 0 | 0.2 | 0 | 2.0 |  1.416 | 0.4 | 0.5 | 0.2832 | 0 |\n",
       "| 3.89 | 6  | 0.00 | 0.2 | 0.000 |  0.83 | 0.2 | 0.166 |  0.83 | 5 | ⋯ | 0.4 | 0 | 0.2 | 0 | 2.0 |  2.156 | 0.4 | 0.5 | 0.4312 | 0 |\n",
       "\n"
      ],
      "text/plain": [
       "  Sector_score LOCATION_ID PARA_A Score_A Risk_A PARA_B Score_B...7 Risk_B\n",
       "1 3.89         23          4.18   0.6     2.508   2.50  0.2         0.500 \n",
       "2 3.89         6           0.00   0.2     0.000   4.83  0.2         0.966 \n",
       "3 3.89         6           0.51   0.2     0.102   0.23  0.2         0.046 \n",
       "4 3.89         6           0.00   0.2     0.000  10.80  0.6         6.480 \n",
       "5 3.89         6           0.00   0.2     0.000   0.08  0.2         0.016 \n",
       "6 3.89         6           0.00   0.2     0.000   0.83  0.2         0.166 \n",
       "  TOTAL numbers ⋯ RiSk_E History Prob Risk_F Score Inherent_Risk CONTROL_RISK\n",
       "1  6.68 5       ⋯ 0.4    0       0.2  0      2.4    8.574        0.4         \n",
       "2  4.83 5       ⋯ 0.4    0       0.2  0      2.0    2.554        0.4         \n",
       "3  0.74 5       ⋯ 0.4    0       0.2  0      2.0    1.548        0.4         \n",
       "4 10.80 6       ⋯ 0.4    0       0.2  0      4.4   17.530        0.4         \n",
       "5  0.08 5       ⋯ 0.4    0       0.2  0      2.0    1.416        0.4         \n",
       "6  0.83 5       ⋯ 0.4    0       0.2  0      2.0    2.156        0.4         \n",
       "  Detection_Risk Audit_Risk Risk\n",
       "1 0.5            1.7148     1   \n",
       "2 0.5            0.5108     0   \n",
       "3 0.5            0.3096     0   \n",
       "4 0.5            3.5060     1   \n",
       "5 0.5            0.2832     0   \n",
       "6 0.5            0.4312     0   "
      ]
     },
     "metadata": {},
     "output_type": "display_data"
    }
   ],
   "source": [
    "url <- \"https://raw.githubusercontent.com/hakkd/dsci-100-project-group17/main/audit_risk.csv\"\n",
    "audit_data <- read_csv(url)\n",
    "\n",
    "head(audit_data)"
   ]
  },
  {
   "cell_type": "markdown",
   "id": "2e461d04-d310-4d5c-b3b0-e21f874e7f52",
   "metadata": {
    "tags": []
   },
   "source": [
    "## Methods"
   ]
  },
  {
   "cell_type": "markdown",
   "id": "996e5b2c-d56c-4d98-b9fa-8e7c6bfe7c14",
   "metadata": {},
   "source": [
    "* Explain how you will conduct either your data analysis and which variables/columns you will use. Note - you do not need to use all variables/columns that exist in the raw data set. In fact, that's often not a good idea. For each variable think: is this a useful variable for prediction?\n",
    "* Describe at least one way that you will visualize the results"
   ]
  },
  {
   "cell_type": "markdown",
   "id": "2d64dc2b-cc87-4b2c-871e-834bd9868451",
   "metadata": {},
   "source": [
    "## Expected Outcomes and Significance"
   ]
  },
  {
   "cell_type": "markdown",
   "id": "5c1c5403-de51-4d08-9e83-fa80e6948275",
   "metadata": {},
   "source": [
    "* What do you expect to find?\n",
    "* What impact could such findings have?\n",
    "* What future questions could this lead to?\n"
   ]
  },
  {
   "cell_type": "code",
   "execution_count": null,
   "id": "c3585d39-3460-4851-ac3f-9daf64aed92c",
   "metadata": {},
   "outputs": [],
   "source": []
  }
 ],
 "metadata": {
  "kernelspec": {
   "display_name": "R",
   "language": "R",
   "name": "ir"
  },
  "language_info": {
   "codemirror_mode": "r",
   "file_extension": ".r",
   "mimetype": "text/x-r-source",
   "name": "R",
   "pygments_lexer": "r",
   "version": "4.1.3"
  }
 },
 "nbformat": 4,
 "nbformat_minor": 5
}
