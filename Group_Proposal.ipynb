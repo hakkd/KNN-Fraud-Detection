{
 "cells": [
  {
   "cell_type": "markdown",
   "id": "0015fbff-911a-495f-bb62-b5c755904407",
   "metadata": {},
   "source": [
    "# DSCI 100 Group Project Proposal - Group 17"
   ]
  },
  {
   "cell_type": "code",
   "execution_count": 1,
   "id": "0502b19e-6058-4d8c-a0a7-d2074f890c51",
   "metadata": {},
   "outputs": [
    {
     "name": "stderr",
     "output_type": "stream",
     "text": [
      "── \u001b[1mAttaching packages\u001b[22m ─────────────────────────────────────── tidyverse 1.3.1 ──\n",
      "\n",
      "\u001b[32m✔\u001b[39m \u001b[34mggplot2\u001b[39m 3.3.6     \u001b[32m✔\u001b[39m \u001b[34mpurrr  \u001b[39m 0.3.4\n",
      "\u001b[32m✔\u001b[39m \u001b[34mtibble \u001b[39m 3.1.7     \u001b[32m✔\u001b[39m \u001b[34mdplyr  \u001b[39m 1.0.9\n",
      "\u001b[32m✔\u001b[39m \u001b[34mtidyr  \u001b[39m 1.2.0     \u001b[32m✔\u001b[39m \u001b[34mstringr\u001b[39m 1.4.0\n",
      "\u001b[32m✔\u001b[39m \u001b[34mreadr  \u001b[39m 2.1.2     \u001b[32m✔\u001b[39m \u001b[34mforcats\u001b[39m 0.5.1\n",
      "\n",
      "── \u001b[1mConflicts\u001b[22m ────────────────────────────────────────── tidyverse_conflicts() ──\n",
      "\u001b[31m✖\u001b[39m \u001b[34mdplyr\u001b[39m::\u001b[32mfilter()\u001b[39m masks \u001b[34mstats\u001b[39m::filter()\n",
      "\u001b[31m✖\u001b[39m \u001b[34mdplyr\u001b[39m::\u001b[32mlag()\u001b[39m    masks \u001b[34mstats\u001b[39m::lag()\n",
      "\n",
      "── \u001b[1mAttaching packages\u001b[22m ────────────────────────────────────── tidymodels 1.0.0 ──\n",
      "\n",
      "\u001b[32m✔\u001b[39m \u001b[34mbroom       \u001b[39m 1.0.0     \u001b[32m✔\u001b[39m \u001b[34mrsample     \u001b[39m 1.0.0\n",
      "\u001b[32m✔\u001b[39m \u001b[34mdials       \u001b[39m 1.0.0     \u001b[32m✔\u001b[39m \u001b[34mtune        \u001b[39m 1.0.0\n",
      "\u001b[32m✔\u001b[39m \u001b[34minfer       \u001b[39m 1.0.2     \u001b[32m✔\u001b[39m \u001b[34mworkflows   \u001b[39m 1.0.0\n",
      "\u001b[32m✔\u001b[39m \u001b[34mmodeldata   \u001b[39m 1.0.0     \u001b[32m✔\u001b[39m \u001b[34mworkflowsets\u001b[39m 1.0.0\n",
      "\u001b[32m✔\u001b[39m \u001b[34mparsnip     \u001b[39m 1.0.0     \u001b[32m✔\u001b[39m \u001b[34myardstick   \u001b[39m 1.0.0\n",
      "\u001b[32m✔\u001b[39m \u001b[34mrecipes     \u001b[39m 1.0.1     \n",
      "\n",
      "── \u001b[1mConflicts\u001b[22m ───────────────────────────────────────── tidymodels_conflicts() ──\n",
      "\u001b[31m✖\u001b[39m \u001b[34mscales\u001b[39m::\u001b[32mdiscard()\u001b[39m masks \u001b[34mpurrr\u001b[39m::discard()\n",
      "\u001b[31m✖\u001b[39m \u001b[34mdplyr\u001b[39m::\u001b[32mfilter()\u001b[39m   masks \u001b[34mstats\u001b[39m::filter()\n",
      "\u001b[31m✖\u001b[39m \u001b[34mrecipes\u001b[39m::\u001b[32mfixed()\u001b[39m  masks \u001b[34mstringr\u001b[39m::fixed()\n",
      "\u001b[31m✖\u001b[39m \u001b[34mdplyr\u001b[39m::\u001b[32mlag()\u001b[39m      masks \u001b[34mstats\u001b[39m::lag()\n",
      "\u001b[31m✖\u001b[39m \u001b[34myardstick\u001b[39m::\u001b[32mspec()\u001b[39m masks \u001b[34mreadr\u001b[39m::spec()\n",
      "\u001b[31m✖\u001b[39m \u001b[34mrecipes\u001b[39m::\u001b[32mstep()\u001b[39m   masks \u001b[34mstats\u001b[39m::step()\n",
      "\u001b[34m•\u001b[39m Search for functions across packages at \u001b[32mhttps://www.tidymodels.org/find/\u001b[39m\n",
      "\n"
     ]
    }
   ],
   "source": [
    "library(tidyverse)\n",
    "library(tidymodels)\n",
    "library(readr)\n",
    "library(dplyr)\n",
    "\n",
    "set.seed(999)"
   ]
  },
  {
   "cell_type": "markdown",
   "id": "bb579b12-4880-4036-887e-13a8af5ecb2c",
   "metadata": {},
   "source": [
    "## Introduction"
   ]
  },
  {
   "cell_type": "markdown",
   "id": "4104330c-dba2-4ed6-a0db-6ca1c578ed46",
   "metadata": {},
   "source": [
    "* Provide some relevant background information on the topic so that someone unfamiliar with it will be prepared to understand the rest of your proposal\n",
    "* Clearly state the question you will try to answer with your project\n",
    "* Identify and describe the dataset that will be used to answer the question"
   ]
  },
  {
   "cell_type": "markdown",
   "id": "f58207f2-f54f-4df7-a3f0-32a50bde2235",
   "metadata": {},
   "source": [
    "Data source: https://archive.ics.uci.edu/ml/datasets/Audit+Data\n",
    "\n",
    "Publication: https://www.researchgate.net/publication/323655455_Fraudulent_Firm_Classification_A_Case_Study_of_an_External_Audit"
   ]
  },
  {
   "cell_type": "markdown",
   "id": "fcfe472f-b18c-455b-b161-7721ea13514b",
   "metadata": {},
   "source": [
    "## Preliminary Exploratory Data Analysis"
   ]
  },
  {
   "cell_type": "markdown",
   "id": "9140f624-cdca-4904-a8a6-f54a8b1e9ff6",
   "metadata": {},
   "source": [
    "* Demonstrate that the dataset can be read from the web into R \n",
    "* Clean and wrangle your data into a tidy format\n",
    "* Using only training data, summarize the data in at least one table (this is exploratory data analysis). An example of a useful table could be one that reports the number of observations in each class, the means of the predictor variables you plan to use in your analysis and how many rows have missing data. \n",
    "* Using only training data, visualize the data with at least one plot relevant to the analysis you plan to do (this is exploratory data analysis). An example of a useful visualization could be one that compares the distributions of each of the predictor variables you plan to use in your analysis.\n"
   ]
  },
  {
   "cell_type": "markdown",
   "id": "5dd6aaa1-970e-4ecf-806a-47b46df30b3e",
   "metadata": {
    "tags": []
   },
   "source": [
    "**Dataset Info**\n",
    "| | Inherent Risk Factors | | Control Risk Factors |\n",
    "| --- | --- | ---| --- |\n",
    "| ParaA | Discrepancy in planned-expenditure of inspection and summary report A in Rs | Sector score | Historical risk score value of the target-unit |\n",
    "| ParaB | Discrepancy in unplanned-expenditure of inspection and summary report B in Rs | Loss | Amount of loss suffered by the firm last year. |\n",
    "| Total | Total amount of discrepancy found in other reports Rs | History | Average historical loss suffered by firm in the last 10 years. |\n",
    "| Number | Historical discrepancy score. | District score | Historical risk score of a district in the last 10 years. |\n",
    "| Money Value | Amount of money involved in misstatements in the past audits. | | |\n",
    "| Sector ID | Unique ID of the target sector. | Location ID | Unique ID of the city/province. |\n",
    "| ARS | Total risk score using analytical procedure. | Audit ID | Unique Id assigned to an audit case. |\n",
    "| Risk class | Risk Class assigned to an audit-case, 1=fraud or 0=no fraud (Target Feature) "
   ]
  },
  {
   "cell_type": "code",
   "execution_count": 8,
   "id": "8d6b34ee-5e6a-40bf-91a0-ac5645e57d38",
   "metadata": {},
   "outputs": [
    {
     "name": "stderr",
     "output_type": "stream",
     "text": [
      "\u001b[1mRows: \u001b[22m\u001b[34m776\u001b[39m \u001b[1mColumns: \u001b[22m\u001b[34m18\u001b[39m\n",
      "\u001b[36m──\u001b[39m \u001b[1mColumn specification\u001b[22m \u001b[36m────────────────────────────────────────────────────────\u001b[39m\n",
      "\u001b[1mDelimiter:\u001b[22m \",\"\n",
      "\u001b[31mchr\u001b[39m  (1): location_id\n",
      "\u001b[32mdbl\u001b[39m (17): sector_score, para_a, score_a, para_b, score_b, total, numbers, ma...\n",
      "\n",
      "\u001b[36mℹ\u001b[39m Use `spec()` to retrieve the full column specification for this data.\n",
      "\u001b[36mℹ\u001b[39m Specify the column types or set `show_col_types = FALSE` to quiet this message.\n"
     ]
    },
    {
     "data": {
      "text/html": [
       "<table class=\"dataframe\">\n",
       "<caption>A tibble: 6 × 18</caption>\n",
       "<thead>\n",
       "\t<tr><th scope=col>sector_score</th><th scope=col>location_id</th><th scope=col>para_a</th><th scope=col>score_a</th><th scope=col>para_b</th><th scope=col>score_b</th><th scope=col>total</th><th scope=col>numbers</th><th scope=col>marks</th><th scope=col>money_value</th><th scope=col>money_marks</th><th scope=col>district</th><th scope=col>loss</th><th scope=col>loss_score</th><th scope=col>history</th><th scope=col>history_score</th><th scope=col>score</th><th scope=col>risk</th></tr>\n",
       "\t<tr><th scope=col>&lt;dbl&gt;</th><th scope=col>&lt;chr&gt;</th><th scope=col>&lt;dbl&gt;</th><th scope=col>&lt;dbl&gt;</th><th scope=col>&lt;dbl&gt;</th><th scope=col>&lt;dbl&gt;</th><th scope=col>&lt;dbl&gt;</th><th scope=col>&lt;dbl&gt;</th><th scope=col>&lt;dbl&gt;</th><th scope=col>&lt;dbl&gt;</th><th scope=col>&lt;dbl&gt;</th><th scope=col>&lt;dbl&gt;</th><th scope=col>&lt;dbl&gt;</th><th scope=col>&lt;dbl&gt;</th><th scope=col>&lt;dbl&gt;</th><th scope=col>&lt;dbl&gt;</th><th scope=col>&lt;dbl&gt;</th><th scope=col>&lt;dbl&gt;</th></tr>\n",
       "</thead>\n",
       "<tbody>\n",
       "\t<tr><td>3.89</td><td>23</td><td>4.18</td><td>6</td><td> 2.50</td><td>2</td><td> 6.68</td><td>5</td><td>2</td><td> 3.38</td><td>2</td><td>2</td><td>0</td><td>2</td><td>0</td><td>2</td><td>2.4</td><td>1</td></tr>\n",
       "\t<tr><td>3.89</td><td>6 </td><td>0.00</td><td>2</td><td> 4.83</td><td>2</td><td> 4.83</td><td>5</td><td>2</td><td> 0.94</td><td>2</td><td>2</td><td>0</td><td>2</td><td>0</td><td>2</td><td>2.0</td><td>0</td></tr>\n",
       "\t<tr><td>3.89</td><td>6 </td><td>0.51</td><td>2</td><td> 0.23</td><td>2</td><td> 0.74</td><td>5</td><td>2</td><td> 0.00</td><td>2</td><td>2</td><td>0</td><td>2</td><td>0</td><td>2</td><td>2.0</td><td>0</td></tr>\n",
       "\t<tr><td>3.89</td><td>6 </td><td>0.00</td><td>2</td><td>10.80</td><td>6</td><td>10.80</td><td>6</td><td>6</td><td>11.75</td><td>6</td><td>2</td><td>0</td><td>2</td><td>0</td><td>2</td><td>4.4</td><td>1</td></tr>\n",
       "\t<tr><td>3.89</td><td>6 </td><td>0.00</td><td>2</td><td> 0.08</td><td>2</td><td> 0.08</td><td>5</td><td>2</td><td> 0.00</td><td>2</td><td>2</td><td>0</td><td>2</td><td>0</td><td>2</td><td>2.0</td><td>0</td></tr>\n",
       "\t<tr><td>3.89</td><td>6 </td><td>0.00</td><td>2</td><td> 0.83</td><td>2</td><td> 0.83</td><td>5</td><td>2</td><td> 2.95</td><td>2</td><td>2</td><td>0</td><td>2</td><td>0</td><td>2</td><td>2.0</td><td>0</td></tr>\n",
       "</tbody>\n",
       "</table>\n"
      ],
      "text/latex": [
       "A tibble: 6 × 18\n",
       "\\begin{tabular}{llllllllllllllllll}\n",
       " sector\\_score & location\\_id & para\\_a & score\\_a & para\\_b & score\\_b & total & numbers & marks & money\\_value & money\\_marks & district & loss & loss\\_score & history & history\\_score & score & risk\\\\\n",
       " <dbl> & <chr> & <dbl> & <dbl> & <dbl> & <dbl> & <dbl> & <dbl> & <dbl> & <dbl> & <dbl> & <dbl> & <dbl> & <dbl> & <dbl> & <dbl> & <dbl> & <dbl>\\\\\n",
       "\\hline\n",
       "\t 3.89 & 23 & 4.18 & 6 &  2.50 & 2 &  6.68 & 5 & 2 &  3.38 & 2 & 2 & 0 & 2 & 0 & 2 & 2.4 & 1\\\\\n",
       "\t 3.89 & 6  & 0.00 & 2 &  4.83 & 2 &  4.83 & 5 & 2 &  0.94 & 2 & 2 & 0 & 2 & 0 & 2 & 2.0 & 0\\\\\n",
       "\t 3.89 & 6  & 0.51 & 2 &  0.23 & 2 &  0.74 & 5 & 2 &  0.00 & 2 & 2 & 0 & 2 & 0 & 2 & 2.0 & 0\\\\\n",
       "\t 3.89 & 6  & 0.00 & 2 & 10.80 & 6 & 10.80 & 6 & 6 & 11.75 & 6 & 2 & 0 & 2 & 0 & 2 & 4.4 & 1\\\\\n",
       "\t 3.89 & 6  & 0.00 & 2 &  0.08 & 2 &  0.08 & 5 & 2 &  0.00 & 2 & 2 & 0 & 2 & 0 & 2 & 2.0 & 0\\\\\n",
       "\t 3.89 & 6  & 0.00 & 2 &  0.83 & 2 &  0.83 & 5 & 2 &  2.95 & 2 & 2 & 0 & 2 & 0 & 2 & 2.0 & 0\\\\\n",
       "\\end{tabular}\n"
      ],
      "text/markdown": [
       "\n",
       "A tibble: 6 × 18\n",
       "\n",
       "| sector_score &lt;dbl&gt; | location_id &lt;chr&gt; | para_a &lt;dbl&gt; | score_a &lt;dbl&gt; | para_b &lt;dbl&gt; | score_b &lt;dbl&gt; | total &lt;dbl&gt; | numbers &lt;dbl&gt; | marks &lt;dbl&gt; | money_value &lt;dbl&gt; | money_marks &lt;dbl&gt; | district &lt;dbl&gt; | loss &lt;dbl&gt; | loss_score &lt;dbl&gt; | history &lt;dbl&gt; | history_score &lt;dbl&gt; | score &lt;dbl&gt; | risk &lt;dbl&gt; |\n",
       "|---|---|---|---|---|---|---|---|---|---|---|---|---|---|---|---|---|---|\n",
       "| 3.89 | 23 | 4.18 | 6 |  2.50 | 2 |  6.68 | 5 | 2 |  3.38 | 2 | 2 | 0 | 2 | 0 | 2 | 2.4 | 1 |\n",
       "| 3.89 | 6  | 0.00 | 2 |  4.83 | 2 |  4.83 | 5 | 2 |  0.94 | 2 | 2 | 0 | 2 | 0 | 2 | 2.0 | 0 |\n",
       "| 3.89 | 6  | 0.51 | 2 |  0.23 | 2 |  0.74 | 5 | 2 |  0.00 | 2 | 2 | 0 | 2 | 0 | 2 | 2.0 | 0 |\n",
       "| 3.89 | 6  | 0.00 | 2 | 10.80 | 6 | 10.80 | 6 | 6 | 11.75 | 6 | 2 | 0 | 2 | 0 | 2 | 4.4 | 1 |\n",
       "| 3.89 | 6  | 0.00 | 2 |  0.08 | 2 |  0.08 | 5 | 2 |  0.00 | 2 | 2 | 0 | 2 | 0 | 2 | 2.0 | 0 |\n",
       "| 3.89 | 6  | 0.00 | 2 |  0.83 | 2 |  0.83 | 5 | 2 |  2.95 | 2 | 2 | 0 | 2 | 0 | 2 | 2.0 | 0 |\n",
       "\n"
      ],
      "text/plain": [
       "  sector_score location_id para_a score_a para_b score_b total numbers marks\n",
       "1 3.89         23          4.18   6        2.50  2        6.68 5       2    \n",
       "2 3.89         6           0.00   2        4.83  2        4.83 5       2    \n",
       "3 3.89         6           0.51   2        0.23  2        0.74 5       2    \n",
       "4 3.89         6           0.00   2       10.80  6       10.80 6       6    \n",
       "5 3.89         6           0.00   2        0.08  2        0.08 5       2    \n",
       "6 3.89         6           0.00   2        0.83  2        0.83 5       2    \n",
       "  money_value money_marks district loss loss_score history history_score score\n",
       "1  3.38       2           2        0    2          0       2             2.4  \n",
       "2  0.94       2           2        0    2          0       2             2.0  \n",
       "3  0.00       2           2        0    2          0       2             2.0  \n",
       "4 11.75       6           2        0    2          0       2             4.4  \n",
       "5  0.00       2           2        0    2          0       2             2.0  \n",
       "6  2.95       2           2        0    2          0       2             2.0  \n",
       "  risk\n",
       "1 1   \n",
       "2 0   \n",
       "3 0   \n",
       "4 1   \n",
       "5 0   \n",
       "6 0   "
      ]
     },
     "metadata": {},
     "output_type": "display_data"
    }
   ],
   "source": [
    "# import the data set, make column names consistent\n",
    "url <- \"https://raw.githubusercontent.com/hakkd/dsci-100-project-group17/main/trial.csv\"\n",
    "\n",
    "column_names = c(\"sector_score\", \"location_id\", \"para_a\", \"score_a\", \"para_b\", \"score_b\", \n",
    "             \"total\", \"numbers\", \"marks\", \"money_value\", \"money_marks\", \"district\", \"loss\", \n",
    "             \"loss_score\", \"history\", \"history_score\", \"score\", \"risk\")\n",
    "\n",
    "audit_data <- read_csv(url, col_names = column_names, skip = 1)\n",
    "\n",
    "head(audit_data)"
   ]
  },
  {
   "cell_type": "code",
   "execution_count": 3,
   "id": "56ad74c8-cf9e-4614-9532-8ba0b8417e8a",
   "metadata": {},
   "outputs": [
    {
     "data": {
      "text/html": [
       "<table class=\"dataframe\">\n",
       "<caption>A tibble: 6 × 18</caption>\n",
       "<thead>\n",
       "\t<tr><th scope=col>sector_score</th><th scope=col>location_id</th><th scope=col>para_a</th><th scope=col>score_a</th><th scope=col>para_b</th><th scope=col>score_b</th><th scope=col>total</th><th scope=col>numbers</th><th scope=col>marks</th><th scope=col>money_value</th><th scope=col>money_marks</th><th scope=col>district</th><th scope=col>loss</th><th scope=col>loss_score</th><th scope=col>history</th><th scope=col>history_score</th><th scope=col>score</th><th scope=col>risk</th></tr>\n",
       "\t<tr><th scope=col>&lt;dbl&gt;</th><th scope=col>&lt;chr&gt;</th><th scope=col>&lt;dbl&gt;</th><th scope=col>&lt;dbl&gt;</th><th scope=col>&lt;dbl&gt;</th><th scope=col>&lt;dbl&gt;</th><th scope=col>&lt;dbl&gt;</th><th scope=col>&lt;dbl&gt;</th><th scope=col>&lt;dbl&gt;</th><th scope=col>&lt;dbl&gt;</th><th scope=col>&lt;dbl&gt;</th><th scope=col>&lt;dbl&gt;</th><th scope=col>&lt;dbl&gt;</th><th scope=col>&lt;dbl&gt;</th><th scope=col>&lt;dbl&gt;</th><th scope=col>&lt;dbl&gt;</th><th scope=col>&lt;dbl&gt;</th><th scope=col>&lt;chr&gt;</th></tr>\n",
       "</thead>\n",
       "<tbody>\n",
       "\t<tr><td>3.89</td><td>23</td><td>4.18</td><td>6</td><td> 2.50</td><td>2</td><td> 6.68</td><td>5</td><td>2</td><td> 3.38</td><td>2</td><td>2</td><td>0</td><td>2</td><td>0</td><td>2</td><td>2.4</td><td>F</td></tr>\n",
       "\t<tr><td>3.89</td><td>6 </td><td>0.00</td><td>2</td><td> 4.83</td><td>2</td><td> 4.83</td><td>5</td><td>2</td><td> 0.94</td><td>2</td><td>2</td><td>0</td><td>2</td><td>0</td><td>2</td><td>2.0</td><td>N</td></tr>\n",
       "\t<tr><td>3.89</td><td>6 </td><td>0.51</td><td>2</td><td> 0.23</td><td>2</td><td> 0.74</td><td>5</td><td>2</td><td> 0.00</td><td>2</td><td>2</td><td>0</td><td>2</td><td>0</td><td>2</td><td>2.0</td><td>N</td></tr>\n",
       "\t<tr><td>3.89</td><td>6 </td><td>0.00</td><td>2</td><td>10.80</td><td>6</td><td>10.80</td><td>6</td><td>6</td><td>11.75</td><td>6</td><td>2</td><td>0</td><td>2</td><td>0</td><td>2</td><td>4.4</td><td>F</td></tr>\n",
       "\t<tr><td>3.89</td><td>6 </td><td>0.00</td><td>2</td><td> 0.08</td><td>2</td><td> 0.08</td><td>5</td><td>2</td><td> 0.00</td><td>2</td><td>2</td><td>0</td><td>2</td><td>0</td><td>2</td><td>2.0</td><td>N</td></tr>\n",
       "\t<tr><td>3.89</td><td>6 </td><td>0.00</td><td>2</td><td> 0.83</td><td>2</td><td> 0.83</td><td>5</td><td>2</td><td> 2.95</td><td>2</td><td>2</td><td>0</td><td>2</td><td>0</td><td>2</td><td>2.0</td><td>N</td></tr>\n",
       "</tbody>\n",
       "</table>\n"
      ],
      "text/latex": [
       "A tibble: 6 × 18\n",
       "\\begin{tabular}{llllllllllllllllll}\n",
       " sector\\_score & location\\_id & para\\_a & score\\_a & para\\_b & score\\_b & total & numbers & marks & money\\_value & money\\_marks & district & loss & loss\\_score & history & history\\_score & score & risk\\\\\n",
       " <dbl> & <chr> & <dbl> & <dbl> & <dbl> & <dbl> & <dbl> & <dbl> & <dbl> & <dbl> & <dbl> & <dbl> & <dbl> & <dbl> & <dbl> & <dbl> & <dbl> & <chr>\\\\\n",
       "\\hline\n",
       "\t 3.89 & 23 & 4.18 & 6 &  2.50 & 2 &  6.68 & 5 & 2 &  3.38 & 2 & 2 & 0 & 2 & 0 & 2 & 2.4 & F\\\\\n",
       "\t 3.89 & 6  & 0.00 & 2 &  4.83 & 2 &  4.83 & 5 & 2 &  0.94 & 2 & 2 & 0 & 2 & 0 & 2 & 2.0 & N\\\\\n",
       "\t 3.89 & 6  & 0.51 & 2 &  0.23 & 2 &  0.74 & 5 & 2 &  0.00 & 2 & 2 & 0 & 2 & 0 & 2 & 2.0 & N\\\\\n",
       "\t 3.89 & 6  & 0.00 & 2 & 10.80 & 6 & 10.80 & 6 & 6 & 11.75 & 6 & 2 & 0 & 2 & 0 & 2 & 4.4 & F\\\\\n",
       "\t 3.89 & 6  & 0.00 & 2 &  0.08 & 2 &  0.08 & 5 & 2 &  0.00 & 2 & 2 & 0 & 2 & 0 & 2 & 2.0 & N\\\\\n",
       "\t 3.89 & 6  & 0.00 & 2 &  0.83 & 2 &  0.83 & 5 & 2 &  2.95 & 2 & 2 & 0 & 2 & 0 & 2 & 2.0 & N\\\\\n",
       "\\end{tabular}\n"
      ],
      "text/markdown": [
       "\n",
       "A tibble: 6 × 18\n",
       "\n",
       "| sector_score &lt;dbl&gt; | location_id &lt;chr&gt; | para_a &lt;dbl&gt; | score_a &lt;dbl&gt; | para_b &lt;dbl&gt; | score_b &lt;dbl&gt; | total &lt;dbl&gt; | numbers &lt;dbl&gt; | marks &lt;dbl&gt; | money_value &lt;dbl&gt; | money_marks &lt;dbl&gt; | district &lt;dbl&gt; | loss &lt;dbl&gt; | loss_score &lt;dbl&gt; | history &lt;dbl&gt; | history_score &lt;dbl&gt; | score &lt;dbl&gt; | risk &lt;chr&gt; |\n",
       "|---|---|---|---|---|---|---|---|---|---|---|---|---|---|---|---|---|---|\n",
       "| 3.89 | 23 | 4.18 | 6 |  2.50 | 2 |  6.68 | 5 | 2 |  3.38 | 2 | 2 | 0 | 2 | 0 | 2 | 2.4 | F |\n",
       "| 3.89 | 6  | 0.00 | 2 |  4.83 | 2 |  4.83 | 5 | 2 |  0.94 | 2 | 2 | 0 | 2 | 0 | 2 | 2.0 | N |\n",
       "| 3.89 | 6  | 0.51 | 2 |  0.23 | 2 |  0.74 | 5 | 2 |  0.00 | 2 | 2 | 0 | 2 | 0 | 2 | 2.0 | N |\n",
       "| 3.89 | 6  | 0.00 | 2 | 10.80 | 6 | 10.80 | 6 | 6 | 11.75 | 6 | 2 | 0 | 2 | 0 | 2 | 4.4 | F |\n",
       "| 3.89 | 6  | 0.00 | 2 |  0.08 | 2 |  0.08 | 5 | 2 |  0.00 | 2 | 2 | 0 | 2 | 0 | 2 | 2.0 | N |\n",
       "| 3.89 | 6  | 0.00 | 2 |  0.83 | 2 |  0.83 | 5 | 2 |  2.95 | 2 | 2 | 0 | 2 | 0 | 2 | 2.0 | N |\n",
       "\n"
      ],
      "text/plain": [
       "  sector_score location_id para_a score_a para_b score_b total numbers marks\n",
       "1 3.89         23          4.18   6        2.50  2        6.68 5       2    \n",
       "2 3.89         6           0.00   2        4.83  2        4.83 5       2    \n",
       "3 3.89         6           0.51   2        0.23  2        0.74 5       2    \n",
       "4 3.89         6           0.00   2       10.80  6       10.80 6       6    \n",
       "5 3.89         6           0.00   2        0.08  2        0.08 5       2    \n",
       "6 3.89         6           0.00   2        0.83  2        0.83 5       2    \n",
       "  money_value money_marks district loss loss_score history history_score score\n",
       "1  3.38       2           2        0    2          0       2             2.4  \n",
       "2  0.94       2           2        0    2          0       2             2.0  \n",
       "3  0.00       2           2        0    2          0       2             2.0  \n",
       "4 11.75       6           2        0    2          0       2             4.4  \n",
       "5  0.00       2           2        0    2          0       2             2.0  \n",
       "6  2.95       2           2        0    2          0       2             2.0  \n",
       "  risk\n",
       "1 F   \n",
       "2 N   \n",
       "3 N   \n",
       "4 F   \n",
       "5 N   \n",
       "6 N   "
      ]
     },
     "metadata": {},
     "output_type": "display_data"
    }
   ],
   "source": [
    "# change Risk to factor and recode as F (fraud) or N (no fraud)\n",
    "audit_data <- audit_data |>\n",
    "        mutate(risk = as.factor(risk))\n",
    "\n",
    "audit_data$risk <- ifelse(audit_data$risk == \"1\", \"F\", \"N\")\n",
    "\n",
    "head(audit_data)"
   ]
  },
  {
   "cell_type": "code",
   "execution_count": 4,
   "id": "8358aacd-86ad-44b2-9236-c78815f693a2",
   "metadata": {},
   "outputs": [],
   "source": [
    "# creating training and testing datasets\n",
    "audit_split <- initial_split(audit_data, prop = 0.75, strata = risk)\n",
    "\n",
    "audit_train <- training(audit_split)\n",
    "audit_test <- testing(audit_split)"
   ]
  },
  {
   "cell_type": "code",
   "execution_count": 5,
   "id": "8ddad06c-2a6b-4177-9e1a-e3fa833b3723",
   "metadata": {},
   "outputs": [
    {
     "data": {
      "text/html": [
       "<table class=\"dataframe\">\n",
       "<caption>A tibble: 2 × 3</caption>\n",
       "<thead>\n",
       "\t<tr><th scope=col>risk</th><th scope=col>n</th><th scope=col>percent</th></tr>\n",
       "\t<tr><th scope=col>&lt;chr&gt;</th><th scope=col>&lt;int&gt;</th><th scope=col>&lt;dbl&gt;</th></tr>\n",
       "</thead>\n",
       "<tbody>\n",
       "\t<tr><td>F</td><td>364</td><td>62.6506</td></tr>\n",
       "\t<tr><td>N</td><td>217</td><td>37.3494</td></tr>\n",
       "</tbody>\n",
       "</table>\n"
      ],
      "text/latex": [
       "A tibble: 2 × 3\n",
       "\\begin{tabular}{lll}\n",
       " risk & n & percent\\\\\n",
       " <chr> & <int> & <dbl>\\\\\n",
       "\\hline\n",
       "\t F & 364 & 62.6506\\\\\n",
       "\t N & 217 & 37.3494\\\\\n",
       "\\end{tabular}\n"
      ],
      "text/markdown": [
       "\n",
       "A tibble: 2 × 3\n",
       "\n",
       "| risk &lt;chr&gt; | n &lt;int&gt; | percent &lt;dbl&gt; |\n",
       "|---|---|---|\n",
       "| F | 364 | 62.6506 |\n",
       "| N | 217 | 37.3494 |\n",
       "\n"
      ],
      "text/plain": [
       "  risk n   percent\n",
       "1 F    364 62.6506\n",
       "2 N    217 37.3494"
      ]
     },
     "metadata": {},
     "output_type": "display_data"
    }
   ],
   "source": [
    "# check proportion of fraudulent and not fraudulent cases\n",
    "audit_proportions <- audit_train |>\n",
    "                      group_by(risk) |>\n",
    "                      summarize(n = n()) |>\n",
    "                      mutate(percent = 100*n/nrow(audit_train))\n",
    "\n",
    "audit_proportions"
   ]
  },
  {
   "cell_type": "markdown",
   "id": "a4f5d4a2-6777-456f-a2b8-57cf2766fa5b",
   "metadata": {},
   "source": [
    "Based on the table above, this dataset has more fraudulent observations than not-fraudulent ones (~2:1)"
   ]
  },
  {
   "cell_type": "code",
   "execution_count": 6,
   "id": "406d9571-d552-4bb2-8b3a-57fc639fcfab",
   "metadata": {},
   "outputs": [
    {
     "data": {
      "text/plain": [
       "  sector_score   location_id            para_a          score_a     \n",
       " Min.   : 1.85   Length:581         Min.   : 0.000   Min.   :2.000  \n",
       " 1st Qu.: 2.37   Class :character   1st Qu.: 0.210   1st Qu.:2.000  \n",
       " Median : 3.89   Mode  :character   Median : 0.840   Median :2.000  \n",
       " Mean   :20.74                      Mean   : 2.419   Mean   :3.463  \n",
       " 3rd Qu.:55.57                      3rd Qu.: 2.410   3rd Qu.:6.000  \n",
       " Max.   :59.85                      Max.   :71.480   Max.   :6.000  \n",
       "                                                                    \n",
       "     para_b           score_b          total            numbers     \n",
       " Min.   :   0.00   Min.   :2.000   Min.   :   0.00   Min.   :5.000  \n",
       " 1st Qu.:   0.00   1st Qu.:2.000   1st Qu.:   0.51   1st Qu.:5.000  \n",
       " Median :   0.39   Median :2.000   Median :   1.33   Median :5.000  \n",
       " Mean   :  11.21   Mean   :3.091   Mean   :  13.59   Mean   :5.069  \n",
       " 3rd Qu.:   2.97   3rd Qu.:4.000   3rd Qu.:   7.24   3rd Qu.:5.000  \n",
       " Max.   :1264.63   Max.   :6.000   Max.   :1268.91   Max.   :9.000  \n",
       "                                                                    \n",
       "     marks        money_value       money_marks       district   \n",
       " Min.   :2.000   Min.   :  0.000   Min.   :2.000   Min.   :2.00  \n",
       " 1st Qu.:2.000   1st Qu.:  0.000   1st Qu.:2.000   1st Qu.:2.00  \n",
       " Median :2.000   Median :  0.070   Median :2.000   Median :2.00  \n",
       " Mean   :2.231   Mean   : 14.728   Mean   :2.895   Mean   :2.53  \n",
       " 3rd Qu.:2.000   3rd Qu.:  5.513   3rd Qu.:4.000   3rd Qu.:2.00  \n",
       " Max.   :6.000   Max.   :935.030   Max.   :6.000   Max.   :6.00  \n",
       "                 NA's   :1                                       \n",
       "      loss           loss_score       history       history_score  \n",
       " Min.   :0.00000   Min.   :2.000   Min.   :0.0000   Min.   :2.000  \n",
       " 1st Qu.:0.00000   1st Qu.:2.000   1st Qu.:0.0000   1st Qu.:2.000  \n",
       " Median :0.00000   Median :2.000   Median :0.0000   Median :2.000  \n",
       " Mean   :0.03442   Mean   :2.072   Mean   :0.0895   Mean   :2.158  \n",
       " 3rd Qu.:0.00000   3rd Qu.:2.000   3rd Qu.:0.0000   3rd Qu.:2.000  \n",
       " Max.   :2.00000   Max.   :6.000   Max.   :4.0000   Max.   :6.000  \n",
       "                                                                   \n",
       "     score           risk          \n",
       " Min.   :2.000   Length:581        \n",
       " 1st Qu.:2.000   Class :character  \n",
       " Median :2.400   Mode  :character  \n",
       " Mean   :2.685                     \n",
       " 3rd Qu.:3.200                     \n",
       " Max.   :5.200                     \n",
       "                                   "
      ]
     },
     "metadata": {},
     "output_type": "display_data"
    }
   ],
   "source": [
    "# show summary statistics for all variables\n",
    "summary(audit_train)"
   ]
  },
  {
   "cell_type": "markdown",
   "id": "2e461d04-d310-4d5c-b3b0-e21f874e7f52",
   "metadata": {
    "tags": []
   },
   "source": [
    "## Methods"
   ]
  },
  {
   "cell_type": "markdown",
   "id": "996e5b2c-d56c-4d98-b9fa-8e7c6bfe7c14",
   "metadata": {},
   "source": [
    "* Explain how you will conduct either your data analysis and which variables/columns you will use. Note - you do not need to use all variables/columns that exist in the raw data set. In fact, that's often not a good idea. For each variable think: is this a useful variable for prediction?\n",
    "* Describe at least one way that you will visualize the results"
   ]
  },
  {
   "cell_type": "markdown",
   "id": "2d64dc2b-cc87-4b2c-871e-834bd9868451",
   "metadata": {},
   "source": [
    "## Expected Outcomes and Significance"
   ]
  },
  {
   "cell_type": "markdown",
   "id": "5c1c5403-de51-4d08-9e83-fa80e6948275",
   "metadata": {},
   "source": [
    "* What do you expect to find?\n",
    "* What impact could such findings have?\n",
    "* What future questions could this lead to?\n"
   ]
  },
  {
   "cell_type": "code",
   "execution_count": null,
   "id": "c3585d39-3460-4851-ac3f-9daf64aed92c",
   "metadata": {},
   "outputs": [],
   "source": []
  }
 ],
 "metadata": {
  "kernelspec": {
   "display_name": "R",
   "language": "R",
   "name": "ir"
  },
  "language_info": {
   "codemirror_mode": "r",
   "file_extension": ".r",
   "mimetype": "text/x-r-source",
   "name": "R",
   "pygments_lexer": "r",
   "version": "4.1.3"
  }
 },
 "nbformat": 4,
 "nbformat_minor": 5
}
