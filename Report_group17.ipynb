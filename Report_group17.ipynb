{
 "cells": [
  {
   "cell_type": "markdown",
   "id": "a49e632a-5cb8-4c5b-b331-74e8690017ea",
   "metadata": {},
   "source": [
    "# DSCI 100 Group Project Report - Group 17"
   ]
  },
  {
   "cell_type": "markdown",
   "id": "e299fec1-490b-4896-9d8e-58468d43b9cf",
   "metadata": {},
   "source": [
    "## Introduction"
   ]
  },
  {
   "cell_type": "markdown",
   "id": "b900851a-c892-4bc0-a69d-c078c8711f55",
   "metadata": {},
   "source": [
    "Introduction:\n",
    "* provide some relevant background information on the topic so that someone unfamiliar with it will be prepared to understand the rest of your report\n",
    "* clearly state the question you tried to answer with your project\n",
    "* identify and describe the dataset that was used to answer the question\n",
    "\n"
   ]
  },
  {
   "cell_type": "markdown",
   "id": "d0e992a8-38be-4c4b-87bd-504959469a76",
   "metadata": {},
   "source": [
    "Auditing firms have a very important responsibility in catching fraud cases. Firms performing audits must carefully examine the financial records of businesses to ensure that they are following accounting laws. To properly perform audits, auditors must go through financial records such as receipts, balance sheets, etc. This is a lot of data to analyze. The question we want to answer is: can fruadulent firms can be correctly predicted using risk factors from the dataset and a k-nearest neighbours approach?\n",
    "\n",
    "The dataset being used will show annual audit data from 777 firms across 14 different sectors. There are 17 columns of observations in the dataset, the risk class column shows whether the case is fraudulent or not. \n",
    "\n",
    "### Variable Information\n",
    "\n",
    "**Note:** no units were provided for variables\n",
    "\n",
    "| | Inherent Risk Factors | | Control Risk Factors |\n",
    "| --- | --- | ---| --- |\n",
    "| ParaA | Discrepancy in planned-expenditure of inspection and summary report A in Rs | Sector score | Historical risk score value of the target-unit |\n",
    "| ParaB | Discrepancy in unplanned-expenditure of inspection and summary report B in Rs | Loss | Amount of loss suffered by the firm last year. |\n",
    "| Total | Total amount of discrepancy found in other reports Rs | History | Average historical loss suffered by firm in the last 10 years. |\n",
    "| Number | Historical discrepancy score. | District score | Historical risk score of a district in the last 10 years. |\n",
    "| Money Value | Amount of money involved in misstatements in the past audits. | | |\n",
    "| Sector ID | Unique ID of the target sector. | Location ID | Unique ID of the city/province. |\n",
    "| ARS | Total risk score using analytical procedure. | Audit ID | Unique Id assigned to an audit case. |\n",
    "| Risk class | Risk Class assigned to an audit-case, 1=fraud or 0=no fraud (Target Feature) "
   ]
  },
  {
   "cell_type": "markdown",
   "id": "2f4473e7-8bd5-4e94-964a-dd5ba7ec667b",
   "metadata": {},
   "source": [
    "## Methods and Results"
   ]
  },
  {
   "cell_type": "markdown",
   "id": "542f7db6-eefb-4a28-a3b8-a2cdecc93355",
   "metadata": {},
   "source": [
    "Methods & Results:\n",
    "* describe in written English the methods you used to perform your analysis from beginning to end that narrates the code the does the analysis. \n",
    "* Your report should include code which:\n",
    "    * loads data from the original source on the web\n",
    "    * wrangles and cleans the data from it's original (downloaded) format to the format necessary for the planned analysi\n",
    "    * performs a summary of the data set that is relevant for exploratory data analysis related to the planned analysis \n",
    "    * creates a visualization of the dataset that is relevant for exploratory data analysis related to the planned analysis\n",
    "    * performs the data analysis\n",
    "    * creates a visualization of the analysis \n",
    "    * note: all tables and figure should have a figure/table number and a legend\n",
    "\n"
   ]
  },
  {
   "cell_type": "markdown",
   "id": "4336d78a-b0fc-40da-afa9-03b679431a45",
   "metadata": {},
   "source": [
    "## Discussion"
   ]
  },
  {
   "cell_type": "markdown",
   "id": "8f64d582-fb49-45f6-9305-72027b5ed904",
   "metadata": {},
   "source": [
    "Discussion:\n",
    "\n",
    "* summarize what you found\n",
    "* discuss whether this is what you expected to find?\n",
    "* discuss what impact could such findings have?\n",
    "* discuss what future questions could this lead to?\n",
    "\n"
   ]
  },
  {
   "cell_type": "markdown",
   "id": "8398d320-14ee-4249-abde-8595c63b4f40",
   "metadata": {},
   "source": [
    "## References"
   ]
  },
  {
   "cell_type": "markdown",
   "id": "0a0469a1-88fb-4ea8-95fa-f3349424bfba",
   "metadata": {},
   "source": [
    "References:\n",
    "\n",
    "* At least 2 citations of literature relevant to the project (format is your choice, just be consistent across the references)\n",
    "* Make sure to cite the source of your data as well.\n",
    "\n"
   ]
  },
  {
   "cell_type": "markdown",
   "id": "2ff60acb-cce4-4eb7-8e91-f2b561c08b39",
   "metadata": {},
   "source": [
    "Hooda, Nishtha & Bawa, Seema & Rana, Prashant. (2018). Fraudulent Firm Classification: A Case Study of an External Audit. Applied Artificial Intelligence. 32. 10.1080/08839514.2018.1451032. "
   ]
  }
 ],
 "metadata": {
  "kernelspec": {
   "display_name": "R",
   "language": "R",
   "name": "ir"
  },
  "language_info": {
   "codemirror_mode": "r",
   "file_extension": ".r",
   "mimetype": "text/x-r-source",
   "name": "R",
   "pygments_lexer": "r",
   "version": "4.1.3"
  }
 },
 "nbformat": 4,
 "nbformat_minor": 5
}
