{
 "cells": [
  {
   "cell_type": "markdown",
   "id": "a49e632a-5cb8-4c5b-b331-74e8690017ea",
   "metadata": {},
   "source": [
    "# DSCI 100 Group Project Report - Group 17"
   ]
  },
  {
   "cell_type": "markdown",
   "id": "e299fec1-490b-4896-9d8e-58468d43b9cf",
   "metadata": {},
   "source": [
    "## Introduction"
   ]
  },
  {
   "cell_type": "markdown",
   "id": "b900851a-c892-4bc0-a69d-c078c8711f55",
   "metadata": {},
   "source": [
    "Introduction:\n",
    "* provide some relevant background information on the topic so that someone unfamiliar with it will be prepared to understand the rest of your report\n",
    "* clearly state the question you tried to answer with your project\n",
    "* identify and describe the dataset that was used to answer the question\n",
    "\n"
   ]
  },
  {
   "cell_type": "markdown",
   "id": "d0e992a8-38be-4c4b-87bd-504959469a76",
   "metadata": {},
   "source": [
    "Auditing firms have a very important responsibility in catching fraud cases. Firms performing audits must carefully examine the financial records of businesses to ensure that they are following accounting laws. To properly perform audits, auditors must go through financial records such as receipts, balance sheets, etc. This is a lot of data to analyze. The question we want to answer is: can fruadulent firms can be correctly predicted using risk factors from the dataset and a k-nearest neighbours approach?\n",
    "\n",
    "The dataset sourced from Hooda et al. (2018) shows annual audit data from 777 firms across 14 different sectors. There are 17 columns of observations in the dataset, the risk class column shows whether the case is fraudulent or not. \n",
    "\n",
    "### Variable Information\n",
    "\n",
    "**Note:** no units were provided for variables\n",
    "\n",
    "| | Inherent Risk Factors | | Control Risk Factors |\n",
    "| --- | --- | ---| --- |\n",
    "| ParaA | Discrepancy in planned-expenditure of inspection and summary report A in Rs | Sector score | Historical risk score value of the target-unit |\n",
    "| ParaB | Discrepancy in unplanned-expenditure of inspection and summary report B in Rs | Loss | Amount of loss suffered by the firm last year. |\n",
    "| Total | Total amount of discrepancy found in other reports Rs | History | Average historical loss suffered by firm in the last 10 years. |\n",
    "| Number | Historical discrepancy score. | District score | Historical risk score of a district in the last 10 years. |\n",
    "| Money Value | Amount of money involved in misstatements in the past audits. | | |\n",
    "| Sector ID | Unique ID of the target sector. | Location ID | Unique ID of the city/province. |\n",
    "| ARS | Total risk score using analytical procedure. | Audit ID | Unique Id assigned to an audit case. |\n",
    "| Risk class | Risk Class assigned to an audit-case, 1=fraud or 0=no fraud (Target Feature) "
   ]
  },
  {
   "cell_type": "markdown",
   "id": "2f4473e7-8bd5-4e94-964a-dd5ba7ec667b",
   "metadata": {},
   "source": [
    "## Methods and Results"
   ]
  },
  {
   "cell_type": "markdown",
   "id": "542f7db6-eefb-4a28-a3b8-a2cdecc93355",
   "metadata": {},
   "source": [
    "Methods & Results:\n",
    "* describe in written English the methods you used to perform your analysis from beginning to end that narrates the code the does the analysis. \n",
    "* Your report should include code which:\n",
    "    * loads data from the original source on the web\n",
    "    * wrangles and cleans the data from it's original (downloaded) format to the format necessary for the planned analysis\n",
    "    * performs a summary of the data set that is relevant for exploratory data analysis related to the planned analysis \n",
    "    * creates a visualization of the dataset that is relevant for exploratory data analysis related to the planned analysis\n",
    "    * performs the data analysis\n",
    "    * creates a visualization of the analysis \n",
    "    * note: all tables and figure should have a figure/table number and a legend\n",
    "\n"
   ]
  },
  {
   "cell_type": "code",
   "execution_count": 1,
   "id": "e2759cfa-b582-402d-ae0f-de99036a95f1",
   "metadata": {},
   "outputs": [
    {
     "name": "stderr",
     "output_type": "stream",
     "text": [
      "── \u001b[1mAttaching packages\u001b[22m ─────────────────────────────────────── tidyverse 1.3.1 ──\n",
      "\n",
      "\u001b[32m✔\u001b[39m \u001b[34mggplot2\u001b[39m 3.3.6     \u001b[32m✔\u001b[39m \u001b[34mpurrr  \u001b[39m 0.3.4\n",
      "\u001b[32m✔\u001b[39m \u001b[34mtibble \u001b[39m 3.1.7     \u001b[32m✔\u001b[39m \u001b[34mdplyr  \u001b[39m 1.0.9\n",
      "\u001b[32m✔\u001b[39m \u001b[34mtidyr  \u001b[39m 1.2.0     \u001b[32m✔\u001b[39m \u001b[34mstringr\u001b[39m 1.4.0\n",
      "\u001b[32m✔\u001b[39m \u001b[34mreadr  \u001b[39m 2.1.2     \u001b[32m✔\u001b[39m \u001b[34mforcats\u001b[39m 0.5.1\n",
      "\n",
      "── \u001b[1mConflicts\u001b[22m ────────────────────────────────────────── tidyverse_conflicts() ──\n",
      "\u001b[31m✖\u001b[39m \u001b[34mdplyr\u001b[39m::\u001b[32mfilter()\u001b[39m masks \u001b[34mstats\u001b[39m::filter()\n",
      "\u001b[31m✖\u001b[39m \u001b[34mdplyr\u001b[39m::\u001b[32mlag()\u001b[39m    masks \u001b[34mstats\u001b[39m::lag()\n",
      "\n",
      "── \u001b[1mAttaching packages\u001b[22m ────────────────────────────────────── tidymodels 1.0.0 ──\n",
      "\n",
      "\u001b[32m✔\u001b[39m \u001b[34mbroom       \u001b[39m 1.0.0     \u001b[32m✔\u001b[39m \u001b[34mrsample     \u001b[39m 1.0.0\n",
      "\u001b[32m✔\u001b[39m \u001b[34mdials       \u001b[39m 1.0.0     \u001b[32m✔\u001b[39m \u001b[34mtune        \u001b[39m 1.0.0\n",
      "\u001b[32m✔\u001b[39m \u001b[34minfer       \u001b[39m 1.0.2     \u001b[32m✔\u001b[39m \u001b[34mworkflows   \u001b[39m 1.0.0\n",
      "\u001b[32m✔\u001b[39m \u001b[34mmodeldata   \u001b[39m 1.0.0     \u001b[32m✔\u001b[39m \u001b[34mworkflowsets\u001b[39m 1.0.0\n",
      "\u001b[32m✔\u001b[39m \u001b[34mparsnip     \u001b[39m 1.0.0     \u001b[32m✔\u001b[39m \u001b[34myardstick   \u001b[39m 1.0.0\n",
      "\u001b[32m✔\u001b[39m \u001b[34mrecipes     \u001b[39m 1.0.1     \n",
      "\n",
      "── \u001b[1mConflicts\u001b[22m ───────────────────────────────────────── tidymodels_conflicts() ──\n",
      "\u001b[31m✖\u001b[39m \u001b[34mscales\u001b[39m::\u001b[32mdiscard()\u001b[39m masks \u001b[34mpurrr\u001b[39m::discard()\n",
      "\u001b[31m✖\u001b[39m \u001b[34mdplyr\u001b[39m::\u001b[32mfilter()\u001b[39m   masks \u001b[34mstats\u001b[39m::filter()\n",
      "\u001b[31m✖\u001b[39m \u001b[34mrecipes\u001b[39m::\u001b[32mfixed()\u001b[39m  masks \u001b[34mstringr\u001b[39m::fixed()\n",
      "\u001b[31m✖\u001b[39m \u001b[34mdplyr\u001b[39m::\u001b[32mlag()\u001b[39m      masks \u001b[34mstats\u001b[39m::lag()\n",
      "\u001b[31m✖\u001b[39m \u001b[34myardstick\u001b[39m::\u001b[32mspec()\u001b[39m masks \u001b[34mreadr\u001b[39m::spec()\n",
      "\u001b[31m✖\u001b[39m \u001b[34mrecipes\u001b[39m::\u001b[32mstep()\u001b[39m   masks \u001b[34mstats\u001b[39m::step()\n",
      "\u001b[34m•\u001b[39m Learn how to get started at \u001b[32mhttps://www.tidymodels.org/start/\u001b[39m\n",
      "\n",
      "\n",
      "Attaching package: ‘gridExtra’\n",
      "\n",
      "\n",
      "The following object is masked from ‘package:dplyr’:\n",
      "\n",
      "    combine\n",
      "\n",
      "\n"
     ]
    }
   ],
   "source": [
    "# open packages\n",
    "library(tidyverse)\n",
    "library(tidymodels)\n",
    "library(readr)\n",
    "library(dplyr)\n",
    "library(ggplot2)\n",
    "library(gridExtra)\n",
    "library(cowplot)"
   ]
  },
  {
   "cell_type": "markdown",
   "id": "10a7eb33-2ecd-4e11-94d6-839c36ba98e0",
   "metadata": {},
   "source": [
    "Import the data from the url. The data set has 18 columns. We remove the \"location_id\" column since it's not useful for our analysis. "
   ]
  },
  {
   "cell_type": "code",
   "execution_count": 2,
   "id": "9bde0311-38ff-405b-a516-4f518e9ceef6",
   "metadata": {},
   "outputs": [
    {
     "name": "stderr",
     "output_type": "stream",
     "text": [
      "\u001b[1mRows: \u001b[22m\u001b[34m776\u001b[39m \u001b[1mColumns: \u001b[22m\u001b[34m18\u001b[39m\n",
      "\u001b[36m──\u001b[39m \u001b[1mColumn specification\u001b[22m \u001b[36m────────────────────────────────────────────────────────\u001b[39m\n",
      "\u001b[1mDelimiter:\u001b[22m \",\"\n",
      "\u001b[31mchr\u001b[39m  (1): location_id\n",
      "\u001b[32mdbl\u001b[39m (17): sector_score, para_a, score_a, para_b, score_b, total, numbers, ma...\n",
      "\n",
      "\u001b[36mℹ\u001b[39m Use `spec()` to retrieve the full column specification for this data.\n",
      "\u001b[36mℹ\u001b[39m Specify the column types or set `show_col_types = FALSE` to quiet this message.\n"
     ]
    },
    {
     "data": {
      "text/html": [
       "<table class=\"dataframe\">\n",
       "<caption>A tibble: 6 × 17</caption>\n",
       "<thead>\n",
       "\t<tr><th scope=col>sector_score</th><th scope=col>para_a</th><th scope=col>score_a</th><th scope=col>para_b</th><th scope=col>score_b</th><th scope=col>total</th><th scope=col>numbers</th><th scope=col>marks</th><th scope=col>money_value</th><th scope=col>money_marks</th><th scope=col>district</th><th scope=col>loss</th><th scope=col>loss_score</th><th scope=col>history</th><th scope=col>history_score</th><th scope=col>score</th><th scope=col>risk</th></tr>\n",
       "\t<tr><th scope=col>&lt;dbl&gt;</th><th scope=col>&lt;dbl&gt;</th><th scope=col>&lt;dbl&gt;</th><th scope=col>&lt;dbl&gt;</th><th scope=col>&lt;dbl&gt;</th><th scope=col>&lt;dbl&gt;</th><th scope=col>&lt;dbl&gt;</th><th scope=col>&lt;dbl&gt;</th><th scope=col>&lt;dbl&gt;</th><th scope=col>&lt;dbl&gt;</th><th scope=col>&lt;dbl&gt;</th><th scope=col>&lt;dbl&gt;</th><th scope=col>&lt;dbl&gt;</th><th scope=col>&lt;dbl&gt;</th><th scope=col>&lt;dbl&gt;</th><th scope=col>&lt;dbl&gt;</th><th scope=col>&lt;dbl&gt;</th></tr>\n",
       "</thead>\n",
       "<tbody>\n",
       "\t<tr><td>3.89</td><td>4.18</td><td>6</td><td> 2.50</td><td>2</td><td> 6.68</td><td>5</td><td>2</td><td> 3.38</td><td>2</td><td>2</td><td>0</td><td>2</td><td>0</td><td>2</td><td>2.4</td><td>1</td></tr>\n",
       "\t<tr><td>3.89</td><td>0.00</td><td>2</td><td> 4.83</td><td>2</td><td> 4.83</td><td>5</td><td>2</td><td> 0.94</td><td>2</td><td>2</td><td>0</td><td>2</td><td>0</td><td>2</td><td>2.0</td><td>0</td></tr>\n",
       "\t<tr><td>3.89</td><td>0.51</td><td>2</td><td> 0.23</td><td>2</td><td> 0.74</td><td>5</td><td>2</td><td> 0.00</td><td>2</td><td>2</td><td>0</td><td>2</td><td>0</td><td>2</td><td>2.0</td><td>0</td></tr>\n",
       "\t<tr><td>3.89</td><td>0.00</td><td>2</td><td>10.80</td><td>6</td><td>10.80</td><td>6</td><td>6</td><td>11.75</td><td>6</td><td>2</td><td>0</td><td>2</td><td>0</td><td>2</td><td>4.4</td><td>1</td></tr>\n",
       "\t<tr><td>3.89</td><td>0.00</td><td>2</td><td> 0.08</td><td>2</td><td> 0.08</td><td>5</td><td>2</td><td> 0.00</td><td>2</td><td>2</td><td>0</td><td>2</td><td>0</td><td>2</td><td>2.0</td><td>0</td></tr>\n",
       "\t<tr><td>3.89</td><td>0.00</td><td>2</td><td> 0.83</td><td>2</td><td> 0.83</td><td>5</td><td>2</td><td> 2.95</td><td>2</td><td>2</td><td>0</td><td>2</td><td>0</td><td>2</td><td>2.0</td><td>0</td></tr>\n",
       "</tbody>\n",
       "</table>\n"
      ],
      "text/latex": [
       "A tibble: 6 × 17\n",
       "\\begin{tabular}{lllllllllllllllll}\n",
       " sector\\_score & para\\_a & score\\_a & para\\_b & score\\_b & total & numbers & marks & money\\_value & money\\_marks & district & loss & loss\\_score & history & history\\_score & score & risk\\\\\n",
       " <dbl> & <dbl> & <dbl> & <dbl> & <dbl> & <dbl> & <dbl> & <dbl> & <dbl> & <dbl> & <dbl> & <dbl> & <dbl> & <dbl> & <dbl> & <dbl> & <dbl>\\\\\n",
       "\\hline\n",
       "\t 3.89 & 4.18 & 6 &  2.50 & 2 &  6.68 & 5 & 2 &  3.38 & 2 & 2 & 0 & 2 & 0 & 2 & 2.4 & 1\\\\\n",
       "\t 3.89 & 0.00 & 2 &  4.83 & 2 &  4.83 & 5 & 2 &  0.94 & 2 & 2 & 0 & 2 & 0 & 2 & 2.0 & 0\\\\\n",
       "\t 3.89 & 0.51 & 2 &  0.23 & 2 &  0.74 & 5 & 2 &  0.00 & 2 & 2 & 0 & 2 & 0 & 2 & 2.0 & 0\\\\\n",
       "\t 3.89 & 0.00 & 2 & 10.80 & 6 & 10.80 & 6 & 6 & 11.75 & 6 & 2 & 0 & 2 & 0 & 2 & 4.4 & 1\\\\\n",
       "\t 3.89 & 0.00 & 2 &  0.08 & 2 &  0.08 & 5 & 2 &  0.00 & 2 & 2 & 0 & 2 & 0 & 2 & 2.0 & 0\\\\\n",
       "\t 3.89 & 0.00 & 2 &  0.83 & 2 &  0.83 & 5 & 2 &  2.95 & 2 & 2 & 0 & 2 & 0 & 2 & 2.0 & 0\\\\\n",
       "\\end{tabular}\n"
      ],
      "text/markdown": [
       "\n",
       "A tibble: 6 × 17\n",
       "\n",
       "| sector_score &lt;dbl&gt; | para_a &lt;dbl&gt; | score_a &lt;dbl&gt; | para_b &lt;dbl&gt; | score_b &lt;dbl&gt; | total &lt;dbl&gt; | numbers &lt;dbl&gt; | marks &lt;dbl&gt; | money_value &lt;dbl&gt; | money_marks &lt;dbl&gt; | district &lt;dbl&gt; | loss &lt;dbl&gt; | loss_score &lt;dbl&gt; | history &lt;dbl&gt; | history_score &lt;dbl&gt; | score &lt;dbl&gt; | risk &lt;dbl&gt; |\n",
       "|---|---|---|---|---|---|---|---|---|---|---|---|---|---|---|---|---|\n",
       "| 3.89 | 4.18 | 6 |  2.50 | 2 |  6.68 | 5 | 2 |  3.38 | 2 | 2 | 0 | 2 | 0 | 2 | 2.4 | 1 |\n",
       "| 3.89 | 0.00 | 2 |  4.83 | 2 |  4.83 | 5 | 2 |  0.94 | 2 | 2 | 0 | 2 | 0 | 2 | 2.0 | 0 |\n",
       "| 3.89 | 0.51 | 2 |  0.23 | 2 |  0.74 | 5 | 2 |  0.00 | 2 | 2 | 0 | 2 | 0 | 2 | 2.0 | 0 |\n",
       "| 3.89 | 0.00 | 2 | 10.80 | 6 | 10.80 | 6 | 6 | 11.75 | 6 | 2 | 0 | 2 | 0 | 2 | 4.4 | 1 |\n",
       "| 3.89 | 0.00 | 2 |  0.08 | 2 |  0.08 | 5 | 2 |  0.00 | 2 | 2 | 0 | 2 | 0 | 2 | 2.0 | 0 |\n",
       "| 3.89 | 0.00 | 2 |  0.83 | 2 |  0.83 | 5 | 2 |  2.95 | 2 | 2 | 0 | 2 | 0 | 2 | 2.0 | 0 |\n",
       "\n"
      ],
      "text/plain": [
       "  sector_score para_a score_a para_b score_b total numbers marks money_value\n",
       "1 3.89         4.18   6        2.50  2        6.68 5       2      3.38      \n",
       "2 3.89         0.00   2        4.83  2        4.83 5       2      0.94      \n",
       "3 3.89         0.51   2        0.23  2        0.74 5       2      0.00      \n",
       "4 3.89         0.00   2       10.80  6       10.80 6       6     11.75      \n",
       "5 3.89         0.00   2        0.08  2        0.08 5       2      0.00      \n",
       "6 3.89         0.00   2        0.83  2        0.83 5       2      2.95      \n",
       "  money_marks district loss loss_score history history_score score risk\n",
       "1 2           2        0    2          0       2             2.4   1   \n",
       "2 2           2        0    2          0       2             2.0   0   \n",
       "3 2           2        0    2          0       2             2.0   0   \n",
       "4 6           2        0    2          0       2             4.4   1   \n",
       "5 2           2        0    2          0       2             2.0   0   \n",
       "6 2           2        0    2          0       2             2.0   0   "
      ]
     },
     "metadata": {},
     "output_type": "display_data"
    }
   ],
   "source": [
    "# import the data set, make column names consistent\n",
    "url <- \"https://raw.githubusercontent.com/hakkd/dsci-100-project-group17/main/trial.csv\"\n",
    "\n",
    "column_names = c(\"sector_score\", \"location_id\", \"para_a\", \"score_a\", \"para_b\", \"score_b\", \n",
    "             \"total\", \"numbers\", \"marks\", \"money_value\", \"money_marks\", \"district\", \"loss\", \n",
    "             \"loss_score\", \"history\", \"history_score\", \"score\", \"risk\")\n",
    "\n",
    "audit_data <- read_csv(url, col_names = column_names, skip = 1)\n",
    "\n",
    "# dropping location_id column (not useful)\n",
    "audit_data <- select(audit_data, -location_id)\n",
    "\n",
    "head(audit_data)"
   ]
  },
  {
   "cell_type": "markdown",
   "id": "db8c25dc-a326-4eda-8aa8-477ad06ac189",
   "metadata": {},
   "source": [
    "**Table 1.** First 6 rows of the audit data set with variable names and data types shown."
   ]
  },
  {
   "cell_type": "markdown",
   "id": "d82a2220-f03b-4eaa-ba93-cdd73d15c8a3",
   "metadata": {},
   "source": [
    "Since we want to classify firms by fraud risk, we change the risk column to a factor and recode the values as F = Fraudulent and N = Not Fraudulent for clarity. "
   ]
  },
  {
   "cell_type": "code",
   "execution_count": 3,
   "id": "22bc6003-a263-4b5b-be19-45e9a525fc39",
   "metadata": {},
   "outputs": [],
   "source": [
    "# change Risk to factor and recode as F (fraud) or N (no fraud)\n",
    "audit_data$risk <- ifelse(audit_data$risk == \"1\", \"F\", \"N\")\n",
    "\n",
    "audit_data <- audit_data |>\n",
    "        mutate(risk = as.factor(risk))\n"
   ]
  },
  {
   "cell_type": "markdown",
   "id": "81361113-cfaa-4278-b5cc-14ecfea05a93",
   "metadata": {},
   "source": [
    "We split the data set into training and testing sets, using 75% of the data for training."
   ]
  },
  {
   "cell_type": "code",
   "execution_count": 4,
   "id": "6d908947-e17e-4723-8bf3-7ce41d9ade7b",
   "metadata": {},
   "outputs": [],
   "source": [
    "set.seed(4321) #set seed\n",
    "\n",
    "# creating training and testing datasets\n",
    "audit_split <- initial_split(audit_data, prop = 0.75, strata = risk)\n",
    "\n",
    "audit_train <- training(audit_split)\n",
    "audit_test <- testing(audit_split)"
   ]
  },
  {
   "cell_type": "markdown",
   "id": "f270ea19-ebda-44b7-ae76-83ed26da25c7",
   "metadata": {},
   "source": [
    "Next we check the proportions of fraudulent and not fraudulent firms in the training set."
   ]
  },
  {
   "cell_type": "code",
   "execution_count": 5,
   "id": "4fe9ee06-181f-4572-8313-d673e9877739",
   "metadata": {},
   "outputs": [
    {
     "data": {
      "text/html": [
       "<table class=\"dataframe\">\n",
       "<caption>A tibble: 2 × 3</caption>\n",
       "<thead>\n",
       "\t<tr><th scope=col>risk</th><th scope=col>n</th><th scope=col>percent</th></tr>\n",
       "\t<tr><th scope=col>&lt;fct&gt;</th><th scope=col>&lt;int&gt;</th><th scope=col>&lt;dbl&gt;</th></tr>\n",
       "</thead>\n",
       "<tbody>\n",
       "\t<tr><td>F</td><td>364</td><td>62.6506</td></tr>\n",
       "\t<tr><td>N</td><td>217</td><td>37.3494</td></tr>\n",
       "</tbody>\n",
       "</table>\n"
      ],
      "text/latex": [
       "A tibble: 2 × 3\n",
       "\\begin{tabular}{lll}\n",
       " risk & n & percent\\\\\n",
       " <fct> & <int> & <dbl>\\\\\n",
       "\\hline\n",
       "\t F & 364 & 62.6506\\\\\n",
       "\t N & 217 & 37.3494\\\\\n",
       "\\end{tabular}\n"
      ],
      "text/markdown": [
       "\n",
       "A tibble: 2 × 3\n",
       "\n",
       "| risk &lt;fct&gt; | n &lt;int&gt; | percent &lt;dbl&gt; |\n",
       "|---|---|---|\n",
       "| F | 364 | 62.6506 |\n",
       "| N | 217 | 37.3494 |\n",
       "\n"
      ],
      "text/plain": [
       "  risk n   percent\n",
       "1 F    364 62.6506\n",
       "2 N    217 37.3494"
      ]
     },
     "metadata": {},
     "output_type": "display_data"
    }
   ],
   "source": [
    "# check proportion of fraudulent and not fraudulent cases\n",
    "audit_proportions <- audit_train |>\n",
    "                      group_by(risk) |>\n",
    "                      summarize(n = n()) |>\n",
    "                      mutate(percent = 100*n/nrow(audit_train))\n",
    "\n",
    "audit_proportions"
   ]
  },
  {
   "cell_type": "markdown",
   "id": "62abcd44-dffe-4b09-8ece-dd7e48bb3dc2",
   "metadata": {},
   "source": [
    "**Table 2.** Proportion of fraudulent and not fraudulent firms in the training set. Approximately 60% of the firms are labelled as fraudulent."
   ]
  },
  {
   "cell_type": "markdown",
   "id": "a715b89a-9039-429e-83bb-b2a91e76480f",
   "metadata": {},
   "source": [
    "We visualize the distributions of all variables in the training set to identify possible predictors."
   ]
  },
  {
   "cell_type": "code",
   "execution_count": 6,
   "id": "9a2a389b-65bd-413c-a813-c06bbf173287",
   "metadata": {},
   "outputs": [
    {
     "name": "stderr",
     "output_type": "stream",
     "text": [
      "Warning message:\n",
      "“Removed 1 rows containing non-finite values (stat_bin).”\n"
     ]
    },
    {
     "data": {
      "image/png": "[encoded data removed]",
      "text/plain": [
       "plot without title"
      ]
     },
     "metadata": {
      "image/png": {
       "height": 480,
       "width": 720
      }
     },
     "output_type": "display_data"
    }
   ],
   "source": [
    "options(repr.plot.width = 12, repr.plot.height = 8)\n",
    "\n",
    "# show distribution of all variables\n",
    "# code from:\n",
    "# https://stackoverflow.com/questions/48507378/plotting-distributions-of-all-columns-in-an-r-data-frame\n",
    "plots <- lapply(names(audit_train), function(variable_name){\n",
    "  p <- ggplot(audit_train) +\n",
    "    aes_string(variable_name) +\n",
    "    theme(text = element_text(size = 12))\n",
    "\n",
    "  if(is.numeric(audit_train[[variable_name]])) {\n",
    "    p <- p + geom_histogram(bins = 30)\n",
    "\n",
    "  } else {\n",
    "    p <- p + geom_bar()\n",
    "  } \n",
    "})\n",
    "\n",
    "title <- ggdraw() + \n",
    "  draw_label(\n",
    "    \"Figure 1. Variable distributions in the training data set.\",\n",
    "    fontface = 'bold',\n",
    "    x = 0,\n",
    "    hjust = 0) +\n",
    "  theme(plot.margin = margin(0, 0, 0, 7))\n",
    "\n",
    "plot_grid(title, plot_grid(plotlist = plots), ncol = 1, rel_heights = c(0.1, 1))"
   ]
  },
  {
   "cell_type": "markdown",
   "id": "86fdea96-4813-4507-85e7-1c1d702ad517",
   "metadata": {},
   "source": [
    "From Figure 1 we see that many of the variables are categorical, not continuous. For our classifier we will focus on the continuous variables total and money_value (see introduction for variable details). Note that para_a and para_b are components of total."
   ]
  },
  {
   "cell_type": "markdown",
   "id": "62af0d95-4b71-453b-818e-f115d50a3e32",
   "metadata": {},
   "source": [
    "Next we select the total, money_value and risk columns and check if there are any NA values in the training set."
   ]
  },
  {
   "cell_type": "code",
   "execution_count": 7,
   "id": "a31093bc-4bb4-4c65-acac-e3b1a0dc8457",
   "metadata": {},
   "outputs": [
    {
     "data": {
      "text/html": [
       "<table class=\"dataframe\">\n",
       "<caption>A tibble: 1 × 3</caption>\n",
       "<thead>\n",
       "\t<tr><th scope=col>total</th><th scope=col>money_value</th><th scope=col>risk</th></tr>\n",
       "\t<tr><th scope=col>&lt;int&gt;</th><th scope=col>&lt;int&gt;</th><th scope=col>&lt;int&gt;</th></tr>\n",
       "</thead>\n",
       "<tbody>\n",
       "\t<tr><td>0</td><td>1</td><td>0</td></tr>\n",
       "</tbody>\n",
       "</table>\n"
      ],
      "text/latex": [
       "A tibble: 1 × 3\n",
       "\\begin{tabular}{lll}\n",
       " total & money\\_value & risk\\\\\n",
       " <int> & <int> & <int>\\\\\n",
       "\\hline\n",
       "\t 0 & 1 & 0\\\\\n",
       "\\end{tabular}\n"
      ],
      "text/markdown": [
       "\n",
       "A tibble: 1 × 3\n",
       "\n",
       "| total &lt;int&gt; | money_value &lt;int&gt; | risk &lt;int&gt; |\n",
       "|---|---|---|\n",
       "| 0 | 1 | 0 |\n",
       "\n"
      ],
      "text/plain": [
       "  total money_value risk\n",
       "1 0     1           0   "
      ]
     },
     "metadata": {},
     "output_type": "display_data"
    }
   ],
   "source": [
    "# select columns\n",
    "audit_train_select <- select(audit_train, total, money_value, risk)\n",
    "\n",
    "# check how many NA values are in each column (if any)\n",
    "audit_train_select |>\n",
    "    map_df(is.na) |>\n",
    "    map_df(sum)"
   ]
  },
  {
   "cell_type": "markdown",
   "id": "0210b40f-13c3-4550-81e1-47fcee6db77d",
   "metadata": {},
   "source": [
    "**Table 3.** There is one column in the training set with a single NA value (money_value). This shold be considered for analysis using the money_value variable."
   ]
  },
  {
   "cell_type": "markdown",
   "id": "a3bba053-9085-4ac7-96d0-16656dfd203a",
   "metadata": {},
   "source": [
    "Since there is only a single row in the training data containing an NA value, we will drop the row from the data set."
   ]
  },
  {
   "cell_type": "code",
   "execution_count": 8,
   "id": "d5f16c32-50dc-4e6a-b34c-f1b0bb39cf8e",
   "metadata": {},
   "outputs": [
    {
     "data": {
      "text/html": [
       "<table class=\"dataframe\">\n",
       "<caption>A tibble: 2 × 3</caption>\n",
       "<thead>\n",
       "\t<tr><th scope=col>risk</th><th scope=col>total</th><th scope=col>money_value</th></tr>\n",
       "\t<tr><th scope=col>&lt;fct&gt;</th><th scope=col>&lt;dbl&gt;</th><th scope=col>&lt;dbl&gt;</th></tr>\n",
       "</thead>\n",
       "<tbody>\n",
       "\t<tr><td>F</td><td>18.3729962</td><td>26.5967308</td></tr>\n",
       "\t<tr><td>N</td><td> 0.5527648</td><td> 0.2960046</td></tr>\n",
       "</tbody>\n",
       "</table>\n"
      ],
      "text/latex": [
       "A tibble: 2 × 3\n",
       "\\begin{tabular}{lll}\n",
       " risk & total & money\\_value\\\\\n",
       " <fct> & <dbl> & <dbl>\\\\\n",
       "\\hline\n",
       "\t F & 18.3729962 & 26.5967308\\\\\n",
       "\t N &  0.5527648 &  0.2960046\\\\\n",
       "\\end{tabular}\n"
      ],
      "text/markdown": [
       "\n",
       "A tibble: 2 × 3\n",
       "\n",
       "| risk &lt;fct&gt; | total &lt;dbl&gt; | money_value &lt;dbl&gt; |\n",
       "|---|---|---|\n",
       "| F | 18.3729962 | 26.5967308 |\n",
       "| N |  0.5527648 |  0.2960046 |\n",
       "\n"
      ],
      "text/plain": [
       "  risk total      money_value\n",
       "1 F    18.3729962 26.5967308 \n",
       "2 N     0.5527648  0.2960046 "
      ]
     },
     "metadata": {},
     "output_type": "display_data"
    }
   ],
   "source": [
    "# drop row containing NA value\n",
    "audit_train_select <- audit_train_select |> drop_na()\n",
    "\n",
    "# show mean of all columns grouped by risk\n",
    "audit_train_select |> \n",
    "    group_by(risk) |>\n",
    "    summarize_all(mean, na.rm = TRUE)"
   ]
  },
  {
   "cell_type": "markdown",
   "id": "3907f172-9ab7-4082-aee2-5416d3d66bff",
   "metadata": {},
   "source": [
    "**Table 4.** Means of all variables for fraudulent and not fraudulent firms."
   ]
  },
  {
   "cell_type": "markdown",
   "id": "8f1a07fb-5e45-4958-9d4c-077345185a54",
   "metadata": {},
   "source": [
    "From table 4 we see that there are large differences in the means for the total and money_value variables between the two fraud classes, suggesting that these variables may make good predictors for our knn-classification model. "
   ]
  },
  {
   "cell_type": "markdown",
   "id": "367f3635-85cb-40c6-871f-06345d2a4744",
   "metadata": {},
   "source": [
    "For building the knn-classification model, we perform a 5-fold cross validation with 1-20 neighbors using the training data. We standardize the data to ensure that the predictor variables in our classifier have equal importance."
   ]
  },
  {
   "cell_type": "code",
   "execution_count": 9,
   "id": "1fda4221-2baf-4948-ad02-26855569628c",
   "metadata": {
    "tags": []
   },
   "outputs": [
    {
     "data": {
      "image/png": "[encoded data removed]",
      "text/plain": [
       "plot without title"
      ]
     },
     "metadata": {
      "image/png": {
       "height": 480,
       "width": 720
      }
     },
     "output_type": "display_data"
    }
   ],
   "source": [
    "# finding the best k value for k-nn classification\n",
    "set.seed(4321)\n",
    "\n",
    "# cross validation with 5 folds\n",
    "audit_vfold <- vfold_cv(audit_train_select, v = 5, strata = risk)\n",
    "\n",
    "# recipe\n",
    "audit_recipe <- recipe(risk ~ total + money_value, data = audit_train_select) |>\n",
    "    step_scale(all_predictors()) |>\n",
    "    step_center(all_predictors())\n",
    "\n",
    "# k-nn tuning\n",
    "knn_tune <- nearest_neighbor(weight_func = \"rectangular\", neighbors = tune()) %>%\n",
    "    set_engine(\"kknn\") %>%\n",
    "    set_mode(\"classification\")\n",
    "\n",
    "ks <- tibble(neighbors = seq(1, 20))\n",
    "\n",
    "# workflow\n",
    "training_results <- workflow() %>%\n",
    "    add_recipe(audit_recipe) %>%\n",
    "    add_model(knn_tune) %>%\n",
    "    tune_grid(resamples = audit_vfold, grid = ks) %>%\n",
    "    collect_metrics()\n",
    "\n",
    "accuracy <- filter(training_results, .metric == \"accuracy\")\n",
    "\n",
    "best_k <- accuracy %>%\n",
    "    arrange(desc(mean)) %>%\n",
    "    select(neighbors) %>%\n",
    "    slice(1)\n",
    "\n",
    "best_k_text <- paste(\"The number of neighbors with the best accuracy is:\", best_k[1])\n",
    "\n",
    "# plotting results \n",
    "cross_val_plot <- ggplot(accuracy, aes(x = neighbors, y = mean)) +\n",
    "    geom_point() +\n",
    "    geom_line() +\n",
    "    labs(x = \"Neighbors (K)\", y = \"Accuracy Estimate\") +\n",
    "    scale_x_continuous(breaks = seq(0, 20, by = 1)) +  # adjusting the x-axis\n",
    "    scale_y_continuous(breaks = seq(0, 1, by = 0.1), limits = c(0.4, 1.0)) # adjusting the y-axis\n",
    "\n",
    "cross_val_plot + \n",
    "    ggtitle(\"Figure 2. Accuracy Estimate vs. Number of Neighbors (K)\",\n",
    "           subtitle = best_k_text) +\n",
    "    theme(text = element_text(size = 15), plot.title = element_text(face = \"bold\"))"
   ]
  },
  {
   "cell_type": "markdown",
   "id": "650a081e-87ea-436c-86a1-afcae78e388e",
   "metadata": {},
   "source": [
    "Figure 2 shows that accuracy generally increases with increasing K for K < 10, after which there is a plateau. We identified K = 11 to produce the greatest accuracy with the training data."
   ]
  },
  {
   "cell_type": "markdown",
   "id": "3cbfbe96-9aa5-44d4-a0f5-fbad9c78081c",
   "metadata": {},
   "source": [
    "Finally, we apply the knn-classication model with K = 11 to the test data and output the result table, accuracy, and confusion matrix. "
   ]
  },
  {
   "cell_type": "code",
   "execution_count": 10,
   "id": "009dd7c2-773e-4bfb-939c-183fc3d7a56f",
   "metadata": {},
   "outputs": [
    {
     "data": {
      "text/html": [
       "<table class=\"dataframe\">\n",
       "<caption>A tibble: 6 × 18</caption>\n",
       "<thead>\n",
       "\t<tr><th scope=col>.pred_class</th><th scope=col>sector_score</th><th scope=col>para_a</th><th scope=col>score_a</th><th scope=col>para_b</th><th scope=col>score_b</th><th scope=col>total</th><th scope=col>numbers</th><th scope=col>marks</th><th scope=col>money_value</th><th scope=col>money_marks</th><th scope=col>district</th><th scope=col>loss</th><th scope=col>loss_score</th><th scope=col>history</th><th scope=col>history_score</th><th scope=col>score</th><th scope=col>risk</th></tr>\n",
       "\t<tr><th scope=col>&lt;fct&gt;</th><th scope=col>&lt;dbl&gt;</th><th scope=col>&lt;dbl&gt;</th><th scope=col>&lt;dbl&gt;</th><th scope=col>&lt;dbl&gt;</th><th scope=col>&lt;dbl&gt;</th><th scope=col>&lt;dbl&gt;</th><th scope=col>&lt;dbl&gt;</th><th scope=col>&lt;dbl&gt;</th><th scope=col>&lt;dbl&gt;</th><th scope=col>&lt;dbl&gt;</th><th scope=col>&lt;dbl&gt;</th><th scope=col>&lt;dbl&gt;</th><th scope=col>&lt;dbl&gt;</th><th scope=col>&lt;dbl&gt;</th><th scope=col>&lt;dbl&gt;</th><th scope=col>&lt;dbl&gt;</th><th scope=col>&lt;fct&gt;</th></tr>\n",
       "</thead>\n",
       "<tbody>\n",
       "\t<tr><td>N</td><td>3.89</td><td>0.00</td><td>2</td><td> 0.08</td><td>2</td><td> 0.08</td><td>5.0</td><td>2</td><td> 0.00</td><td>2</td><td>2</td><td>0</td><td>2</td><td>0</td><td>2</td><td>2.0</td><td>N</td></tr>\n",
       "\t<tr><td>F</td><td>3.89</td><td>5.43</td><td>6</td><td>10.77</td><td>6</td><td>16.20</td><td>5.0</td><td>2</td><td> 4.42</td><td>2</td><td>2</td><td>0</td><td>2</td><td>0</td><td>2</td><td>3.6</td><td>F</td></tr>\n",
       "\t<tr><td>F</td><td>3.89</td><td>8.54</td><td>6</td><td>31.63</td><td>6</td><td>40.17</td><td>5.0</td><td>2</td><td>41.28</td><td>6</td><td>2</td><td>0</td><td>2</td><td>1</td><td>4</td><td>4.2</td><td>F</td></tr>\n",
       "\t<tr><td>F</td><td>3.89</td><td>1.81</td><td>4</td><td> 1.03</td><td>2</td><td> 2.84</td><td>5.0</td><td>2</td><td> 0.00</td><td>2</td><td>2</td><td>0</td><td>2</td><td>0</td><td>2</td><td>2.2</td><td>F</td></tr>\n",
       "\t<tr><td>F</td><td>3.89</td><td>4.86</td><td>6</td><td>46.78</td><td>6</td><td>51.64</td><td>5.5</td><td>4</td><td>63.18</td><td>6</td><td>2</td><td>0</td><td>2</td><td>0</td><td>2</td><td>4.4</td><td>F</td></tr>\n",
       "\t<tr><td>F</td><td>3.89</td><td>7.42</td><td>6</td><td> 2.24</td><td>2</td><td> 9.66</td><td>5.0</td><td>2</td><td> 1.25</td><td>2</td><td>2</td><td>0</td><td>2</td><td>0</td><td>2</td><td>2.4</td><td>F</td></tr>\n",
       "</tbody>\n",
       "</table>\n"
      ],
      "text/latex": [
       "A tibble: 6 × 18\n",
       "\\begin{tabular}{llllllllllllllllll}\n",
       " .pred\\_class & sector\\_score & para\\_a & score\\_a & para\\_b & score\\_b & total & numbers & marks & money\\_value & money\\_marks & district & loss & loss\\_score & history & history\\_score & score & risk\\\\\n",
       " <fct> & <dbl> & <dbl> & <dbl> & <dbl> & <dbl> & <dbl> & <dbl> & <dbl> & <dbl> & <dbl> & <dbl> & <dbl> & <dbl> & <dbl> & <dbl> & <dbl> & <fct>\\\\\n",
       "\\hline\n",
       "\t N & 3.89 & 0.00 & 2 &  0.08 & 2 &  0.08 & 5.0 & 2 &  0.00 & 2 & 2 & 0 & 2 & 0 & 2 & 2.0 & N\\\\\n",
       "\t F & 3.89 & 5.43 & 6 & 10.77 & 6 & 16.20 & 5.0 & 2 &  4.42 & 2 & 2 & 0 & 2 & 0 & 2 & 3.6 & F\\\\\n",
       "\t F & 3.89 & 8.54 & 6 & 31.63 & 6 & 40.17 & 5.0 & 2 & 41.28 & 6 & 2 & 0 & 2 & 1 & 4 & 4.2 & F\\\\\n",
       "\t F & 3.89 & 1.81 & 4 &  1.03 & 2 &  2.84 & 5.0 & 2 &  0.00 & 2 & 2 & 0 & 2 & 0 & 2 & 2.2 & F\\\\\n",
       "\t F & 3.89 & 4.86 & 6 & 46.78 & 6 & 51.64 & 5.5 & 4 & 63.18 & 6 & 2 & 0 & 2 & 0 & 2 & 4.4 & F\\\\\n",
       "\t F & 3.89 & 7.42 & 6 &  2.24 & 2 &  9.66 & 5.0 & 2 &  1.25 & 2 & 2 & 0 & 2 & 0 & 2 & 2.4 & F\\\\\n",
       "\\end{tabular}\n"
      ],
      "text/markdown": [
       "\n",
       "A tibble: 6 × 18\n",
       "\n",
       "| .pred_class &lt;fct&gt; | sector_score &lt;dbl&gt; | para_a &lt;dbl&gt; | score_a &lt;dbl&gt; | para_b &lt;dbl&gt; | score_b &lt;dbl&gt; | total &lt;dbl&gt; | numbers &lt;dbl&gt; | marks &lt;dbl&gt; | money_value &lt;dbl&gt; | money_marks &lt;dbl&gt; | district &lt;dbl&gt; | loss &lt;dbl&gt; | loss_score &lt;dbl&gt; | history &lt;dbl&gt; | history_score &lt;dbl&gt; | score &lt;dbl&gt; | risk &lt;fct&gt; |\n",
       "|---|---|---|---|---|---|---|---|---|---|---|---|---|---|---|---|---|---|\n",
       "| N | 3.89 | 0.00 | 2 |  0.08 | 2 |  0.08 | 5.0 | 2 |  0.00 | 2 | 2 | 0 | 2 | 0 | 2 | 2.0 | N |\n",
       "| F | 3.89 | 5.43 | 6 | 10.77 | 6 | 16.20 | 5.0 | 2 |  4.42 | 2 | 2 | 0 | 2 | 0 | 2 | 3.6 | F |\n",
       "| F | 3.89 | 8.54 | 6 | 31.63 | 6 | 40.17 | 5.0 | 2 | 41.28 | 6 | 2 | 0 | 2 | 1 | 4 | 4.2 | F |\n",
       "| F | 3.89 | 1.81 | 4 |  1.03 | 2 |  2.84 | 5.0 | 2 |  0.00 | 2 | 2 | 0 | 2 | 0 | 2 | 2.2 | F |\n",
       "| F | 3.89 | 4.86 | 6 | 46.78 | 6 | 51.64 | 5.5 | 4 | 63.18 | 6 | 2 | 0 | 2 | 0 | 2 | 4.4 | F |\n",
       "| F | 3.89 | 7.42 | 6 |  2.24 | 2 |  9.66 | 5.0 | 2 |  1.25 | 2 | 2 | 0 | 2 | 0 | 2 | 2.4 | F |\n",
       "\n"
      ],
      "text/plain": [
       "  .pred_class sector_score para_a score_a para_b score_b total numbers marks\n",
       "1 N           3.89         0.00   2        0.08  2        0.08 5.0     2    \n",
       "2 F           3.89         5.43   6       10.77  6       16.20 5.0     2    \n",
       "3 F           3.89         8.54   6       31.63  6       40.17 5.0     2    \n",
       "4 F           3.89         1.81   4        1.03  2        2.84 5.0     2    \n",
       "5 F           3.89         4.86   6       46.78  6       51.64 5.5     4    \n",
       "6 F           3.89         7.42   6        2.24  2        9.66 5.0     2    \n",
       "  money_value money_marks district loss loss_score history history_score score\n",
       "1  0.00       2           2        0    2          0       2             2.0  \n",
       "2  4.42       2           2        0    2          0       2             3.6  \n",
       "3 41.28       6           2        0    2          1       4             4.2  \n",
       "4  0.00       2           2        0    2          0       2             2.2  \n",
       "5 63.18       6           2        0    2          0       2             4.4  \n",
       "6  1.25       2           2        0    2          0       2             2.4  \n",
       "  risk\n",
       "1 N   \n",
       "2 F   \n",
       "3 F   \n",
       "4 F   \n",
       "5 F   \n",
       "6 F   "
      ]
     },
     "metadata": {},
     "output_type": "display_data"
    }
   ],
   "source": [
    "# Building the model with the best k\n",
    "set.seed(4321)\n",
    "\n",
    "best_spec <- nearest_neighbor(weight_func = \"rectangular\", neighbors = 11) %>%\n",
    "    set_engine(\"kknn\") %>%\n",
    "    set_mode(\"classification\")\n",
    "\n",
    "best_audit_fit <- workflow() %>%\n",
    "    add_recipe(audit_recipe) %>%\n",
    "    add_model(best_spec) %>%\n",
    "    fit(data = audit_train)\n",
    "\n",
    "# applying model to testing data\n",
    "audit_predictions <- predict(best_audit_fit, audit_test) %>%\n",
    "    bind_cols(audit_test)\n",
    "head(audit_predictions)"
   ]
  },
  {
   "cell_type": "markdown",
   "id": "b60a6774-94c3-405c-aa6b-c92d6477bee7",
   "metadata": {},
   "source": [
    "**Table 5.** Select rows from knn-classification result for testing data. \".pred_class\" indicates the prediction applied to each data point. "
   ]
  },
  {
   "cell_type": "code",
   "execution_count": 11,
   "id": "8294ff56-5148-4eec-8cad-25dc03785b71",
   "metadata": {},
   "outputs": [
    {
     "data": {
      "text/html": [
       "<table class=\"dataframe\">\n",
       "<caption>A tibble: 2 × 3</caption>\n",
       "<thead>\n",
       "\t<tr><th scope=col>.metric</th><th scope=col>.estimator</th><th scope=col>.estimate</th></tr>\n",
       "\t<tr><th scope=col>&lt;chr&gt;</th><th scope=col>&lt;chr&gt;</th><th scope=col>&lt;dbl&gt;</th></tr>\n",
       "</thead>\n",
       "<tbody>\n",
       "\t<tr><td>accuracy</td><td>binary</td><td>0.8512821</td></tr>\n",
       "\t<tr><td>kap     </td><td>binary</td><td>0.6833884</td></tr>\n",
       "</tbody>\n",
       "</table>\n"
      ],
      "text/latex": [
       "A tibble: 2 × 3\n",
       "\\begin{tabular}{lll}\n",
       " .metric & .estimator & .estimate\\\\\n",
       " <chr> & <chr> & <dbl>\\\\\n",
       "\\hline\n",
       "\t accuracy & binary & 0.8512821\\\\\n",
       "\t kap      & binary & 0.6833884\\\\\n",
       "\\end{tabular}\n"
      ],
      "text/markdown": [
       "\n",
       "A tibble: 2 × 3\n",
       "\n",
       "| .metric &lt;chr&gt; | .estimator &lt;chr&gt; | .estimate &lt;dbl&gt; |\n",
       "|---|---|---|\n",
       "| accuracy | binary | 0.8512821 |\n",
       "| kap      | binary | 0.6833884 |\n",
       "\n"
      ],
      "text/plain": [
       "  .metric  .estimator .estimate\n",
       "1 accuracy binary     0.8512821\n",
       "2 kap      binary     0.6833884"
      ]
     },
     "metadata": {},
     "output_type": "display_data"
    }
   ],
   "source": [
    "# calculating accuracy of predictions\n",
    "audit_metrics <- audit_predictions %>%\n",
    "    metrics(truth = risk, estimate = .pred_class)\n",
    "audit_metrics"
   ]
  },
  {
   "cell_type": "markdown",
   "id": "98a85191-7a39-48a9-9a42-54533b409d0c",
   "metadata": {},
   "source": [
    "**Table 6.** Accuracy estimate from knn-classification using 11 neighbors. The classification model was able to classify firms in the testing data set with approximately 85% accuracy."
   ]
  },
  {
   "cell_type": "code",
   "execution_count": 12,
   "id": "55c369d9-7a32-44a7-aacb-b9804ddd3f2e",
   "metadata": {},
   "outputs": [
    {
     "data": {
      "text/plain": [
       "          Truth\n",
       "Prediction   F   N\n",
       "         F 107  14\n",
       "         N  15  59"
      ]
     },
     "metadata": {},
     "output_type": "display_data"
    }
   ],
   "source": [
    "# creating the truth matrix\n",
    "audit_matrix <- audit_predictions %>%\n",
    "    conf_mat(truth = risk, estimate = .pred_class)\n",
    "audit_matrix"
   ]
  },
  {
   "cell_type": "markdown",
   "id": "347e343e-bbd5-4bf8-b427-3b120c575e49",
   "metadata": {},
   "source": [
    "**Table 7.** Confusion matrix showing correct and incorrect classification of the training data. There are roughly equal numbers of false positive and false negative assignments."
   ]
  },
  {
   "cell_type": "markdown",
   "id": "4336d78a-b0fc-40da-afa9-03b679431a45",
   "metadata": {},
   "source": [
    "## Discussion"
   ]
  },
  {
   "cell_type": "markdown",
   "id": "8f64d582-fb49-45f6-9305-72027b5ed904",
   "metadata": {},
   "source": [
    "Discussion:\n",
    "\n",
    "* summarize what you found\n",
    "* discuss whether this is what you expected to find?\n",
    "* discuss what impact could such findings have?\n",
    "* discuss what future questions could this lead to?\n",
    "\n"
   ]
  },
  {
   "cell_type": "markdown",
   "id": "8398d320-14ee-4249-abde-8595c63b4f40",
   "metadata": {},
   "source": [
    "## References"
   ]
  },
  {
   "cell_type": "markdown",
   "id": "0a0469a1-88fb-4ea8-95fa-f3349424bfba",
   "metadata": {},
   "source": [
    "References:\n",
    "\n",
    "* At least 2 citations of literature relevant to the project (format is your choice, just be consistent across the references)\n",
    "* Make sure to cite the source of your data as well.\n",
    "\n"
   ]
  },
  {
   "cell_type": "markdown",
   "id": "2ff60acb-cce4-4eb7-8e91-f2b561c08b39",
   "metadata": {},
   "source": [
    "Hooda, Nishtha & Bawa, Seema & Rana, Prashant. (2018). Fraudulent Firm Classification: A Case Study of an External Audit. Applied Artificial Intelligence. 32. 10.1080/08839514.2018.1451032. "
   ]
  }
 ],
 "metadata": {
  "kernelspec": {
   "display_name": "R",
   "language": "R",
   "name": "ir"
  },
  "language_info": {
   "codemirror_mode": "r",
   "file_extension": ".r",
   "mimetype": "text/x-r-source",
   "name": "R",
   "pygments_lexer": "r",
   "version": "4.1.3"
  }
 },
 "nbformat": 4,
 "nbformat_minor": 5
}
